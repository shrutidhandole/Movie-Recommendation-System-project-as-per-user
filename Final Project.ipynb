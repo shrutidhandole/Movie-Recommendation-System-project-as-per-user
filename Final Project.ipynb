{
 "cells": [
  {
   "cell_type": "markdown",
   "id": "b03216a8",
   "metadata": {},
   "source": [
    "<font color='gray' size=6><b>MOVIE RECOMMENDER SYSTEM</b></font>"
   ]
  },
  {
   "cell_type": "code",
   "execution_count": 1,
   "id": "bbe6ddbe",
   "metadata": {},
   "outputs": [],
   "source": [
    "# Importing Libraries\n",
    "import pandas as pd\n",
    "import numpy as np\n",
    "import matplotlib.pyplot as plt\n",
    "import seaborn as sns\n",
    "from tabulate import tabulate\n",
    "import re\n",
    "\n",
    "from sklearn.metrics.pairwise import cosine_similarity\n",
    "import ipywidgets as widgets\n",
    "from IPython.display import display"
   ]
  },
  {
   "cell_type": "markdown",
   "id": "599eadf6",
   "metadata": {},
   "source": [
    "<font color='blue' size=5><b>Popularity-based recommender system at a genre level</b></font>"
   ]
  },
  {
   "cell_type": "markdown",
   "id": "499fd4a2",
   "metadata": {},
   "source": [
    "### Objective:\n",
    "1. Create a popularity-based recommender system at a genre level. The user will input a\n",
    "    genre (g), minimum rating threshold (t) for a movie, and no. of\n",
    "    recommendations(N) for which it should be recommended top N movies which are\n",
    "    most popular within that genre (g) ordered by ratings in descending order where each\n",
    "    movie has at least (t) reviews."
   ]
  },
  {
   "cell_type": "code",
   "execution_count": 2,
   "id": "030a427c",
   "metadata": {},
   "outputs": [],
   "source": [
    "# Load the dataset\n",
    "movies = pd.read_csv(\"movies.csv\")\n",
    "ratings = pd.read_csv(\"ratings.csv\")"
   ]
  },
  {
   "cell_type": "code",
   "execution_count": 3,
   "id": "dc971ee4",
   "metadata": {},
   "outputs": [
    {
     "data": {
      "text/html": [
       "<div>\n",
       "<style scoped>\n",
       "    .dataframe tbody tr th:only-of-type {\n",
       "        vertical-align: middle;\n",
       "    }\n",
       "\n",
       "    .dataframe tbody tr th {\n",
       "        vertical-align: top;\n",
       "    }\n",
       "\n",
       "    .dataframe thead th {\n",
       "        text-align: right;\n",
       "    }\n",
       "</style>\n",
       "<table border=\"1\" class=\"dataframe\">\n",
       "  <thead>\n",
       "    <tr style=\"text-align: right;\">\n",
       "      <th></th>\n",
       "      <th>movieId</th>\n",
       "      <th>title</th>\n",
       "      <th>genres</th>\n",
       "    </tr>\n",
       "  </thead>\n",
       "  <tbody>\n",
       "    <tr>\n",
       "      <th>0</th>\n",
       "      <td>1</td>\n",
       "      <td>Toy Story (1995)</td>\n",
       "      <td>Adventure|Animation|Children|Comedy|Fantasy</td>\n",
       "    </tr>\n",
       "    <tr>\n",
       "      <th>1</th>\n",
       "      <td>2</td>\n",
       "      <td>Jumanji (1995)</td>\n",
       "      <td>Adventure|Children|Fantasy</td>\n",
       "    </tr>\n",
       "    <tr>\n",
       "      <th>2</th>\n",
       "      <td>3</td>\n",
       "      <td>Grumpier Old Men (1995)</td>\n",
       "      <td>Comedy|Romance</td>\n",
       "    </tr>\n",
       "    <tr>\n",
       "      <th>3</th>\n",
       "      <td>4</td>\n",
       "      <td>Waiting to Exhale (1995)</td>\n",
       "      <td>Comedy|Drama|Romance</td>\n",
       "    </tr>\n",
       "    <tr>\n",
       "      <th>4</th>\n",
       "      <td>5</td>\n",
       "      <td>Father of the Bride Part II (1995)</td>\n",
       "      <td>Comedy</td>\n",
       "    </tr>\n",
       "  </tbody>\n",
       "</table>\n",
       "</div>"
      ],
      "text/plain": [
       "   movieId                               title  \\\n",
       "0        1                    Toy Story (1995)   \n",
       "1        2                      Jumanji (1995)   \n",
       "2        3             Grumpier Old Men (1995)   \n",
       "3        4            Waiting to Exhale (1995)   \n",
       "4        5  Father of the Bride Part II (1995)   \n",
       "\n",
       "                                        genres  \n",
       "0  Adventure|Animation|Children|Comedy|Fantasy  \n",
       "1                   Adventure|Children|Fantasy  \n",
       "2                               Comedy|Romance  \n",
       "3                         Comedy|Drama|Romance  \n",
       "4                                       Comedy  "
      ]
     },
     "execution_count": 3,
     "metadata": {},
     "output_type": "execute_result"
    }
   ],
   "source": [
    "# Display the dataset (5 rows)\n",
    "movies.head()"
   ]
  },
  {
   "cell_type": "code",
   "execution_count": 4,
   "id": "17ca1d88",
   "metadata": {},
   "outputs": [
    {
     "data": {
      "text/html": [
       "<div>\n",
       "<style scoped>\n",
       "    .dataframe tbody tr th:only-of-type {\n",
       "        vertical-align: middle;\n",
       "    }\n",
       "\n",
       "    .dataframe tbody tr th {\n",
       "        vertical-align: top;\n",
       "    }\n",
       "\n",
       "    .dataframe thead th {\n",
       "        text-align: right;\n",
       "    }\n",
       "</style>\n",
       "<table border=\"1\" class=\"dataframe\">\n",
       "  <thead>\n",
       "    <tr style=\"text-align: right;\">\n",
       "      <th></th>\n",
       "      <th>userId</th>\n",
       "      <th>movieId</th>\n",
       "      <th>rating</th>\n",
       "      <th>timestamp</th>\n",
       "    </tr>\n",
       "  </thead>\n",
       "  <tbody>\n",
       "    <tr>\n",
       "      <th>0</th>\n",
       "      <td>1</td>\n",
       "      <td>16</td>\n",
       "      <td>4.0</td>\n",
       "      <td>1217897793</td>\n",
       "    </tr>\n",
       "    <tr>\n",
       "      <th>1</th>\n",
       "      <td>1</td>\n",
       "      <td>24</td>\n",
       "      <td>1.5</td>\n",
       "      <td>1217895807</td>\n",
       "    </tr>\n",
       "    <tr>\n",
       "      <th>2</th>\n",
       "      <td>1</td>\n",
       "      <td>32</td>\n",
       "      <td>4.0</td>\n",
       "      <td>1217896246</td>\n",
       "    </tr>\n",
       "    <tr>\n",
       "      <th>3</th>\n",
       "      <td>1</td>\n",
       "      <td>47</td>\n",
       "      <td>4.0</td>\n",
       "      <td>1217896556</td>\n",
       "    </tr>\n",
       "    <tr>\n",
       "      <th>4</th>\n",
       "      <td>1</td>\n",
       "      <td>50</td>\n",
       "      <td>4.0</td>\n",
       "      <td>1217896523</td>\n",
       "    </tr>\n",
       "  </tbody>\n",
       "</table>\n",
       "</div>"
      ],
      "text/plain": [
       "   userId  movieId  rating   timestamp\n",
       "0       1       16     4.0  1217897793\n",
       "1       1       24     1.5  1217895807\n",
       "2       1       32     4.0  1217896246\n",
       "3       1       47     4.0  1217896556\n",
       "4       1       50     4.0  1217896523"
      ]
     },
     "execution_count": 4,
     "metadata": {},
     "output_type": "execute_result"
    }
   ],
   "source": [
    "ratings.head()"
   ]
  },
  {
   "cell_type": "markdown",
   "id": "93b65289",
   "metadata": {},
   "source": [
    "## ● Exploratory Data Analysis including:\n",
    "    o Understanding of distribution of the features available\n",
    "    o Finding unique users and movies\n",
    "    o Average rating and Total movies at genre level.\n",
    "    o Unique genres considered.."
   ]
  },
  {
   "cell_type": "code",
   "execution_count": 5,
   "id": "558b1a2e",
   "metadata": {},
   "outputs": [
    {
     "name": "stdout",
     "output_type": "stream",
     "text": [
      "@.... Information About the Movies Data :- \n",
      "======================================================================================\n",
      "\n",
      "Total Rows :  10329\n",
      "Total Columns :  3\n",
      "\n",
      "********************************************\n",
      "<class 'pandas.core.frame.DataFrame'>\n",
      "RangeIndex: 10329 entries, 0 to 10328\n",
      "Data columns (total 3 columns):\n",
      " #   Column   Non-Null Count  Dtype \n",
      "---  ------   --------------  ----- \n",
      " 0   movieId  10329 non-null  int64 \n",
      " 1   title    10329 non-null  object\n",
      " 2   genres   10329 non-null  object\n",
      "dtypes: int64(1), object(2)\n",
      "memory usage: 242.2+ KB\n",
      "None\n",
      "\n",
      "********************************************\n",
      "Index(['movieId', 'title', 'genres'], dtype='object')\n",
      "\n",
      "\n",
      "\n",
      "@.... Information About the ratings Data :- \n",
      "======================================================================================\n",
      "\n",
      "Total Rows :  105339\n",
      "Total Columns :  4\n",
      "\n",
      "********************************************\n",
      "<class 'pandas.core.frame.DataFrame'>\n",
      "RangeIndex: 105339 entries, 0 to 105338\n",
      "Data columns (total 4 columns):\n",
      " #   Column     Non-Null Count   Dtype  \n",
      "---  ------     --------------   -----  \n",
      " 0   userId     105339 non-null  int64  \n",
      " 1   movieId    105339 non-null  int64  \n",
      " 2   rating     105339 non-null  float64\n",
      " 3   timestamp  105339 non-null  int64  \n",
      "dtypes: float64(1), int64(3)\n",
      "memory usage: 3.2 MB\n",
      "None\n",
      "\n",
      "********************************************\n",
      "Index(['userId', 'movieId', 'rating', 'timestamp'], dtype='object')\n"
     ]
    }
   ],
   "source": [
    "# Display all information about the features and Important data\n",
    "print(\"@.... Information About the Movies Data :- \")\n",
    "print(\"======================================================================================\")\n",
    "print(\"\\nTotal Rows : \",movies.shape[0])\n",
    "print(\"Total Columns : \",movies.shape[1])\n",
    "print(\"\\n********************************************\")\n",
    "print(movies.info())\n",
    "print(\"\\n********************************************\")\n",
    "print(movies.columns)\n",
    "\n",
    "# Display all information about the features and Important data\n",
    "print(\"\\n\\n\\n@.... Information About the ratings Data :- \")\n",
    "print(\"======================================================================================\")\n",
    "print(\"\\nTotal Rows : \",ratings.shape[0])\n",
    "print(\"Total Columns : \",ratings.shape[1])\n",
    "print(\"\\n********************************************\")\n",
    "print(ratings.info())\n",
    "print(\"\\n********************************************\")\n",
    "print(ratings.columns)"
   ]
  },
  {
   "cell_type": "code",
   "execution_count": 6,
   "id": "f1bea70a",
   "metadata": {},
   "outputs": [
    {
     "name": "stdout",
     "output_type": "stream",
     "text": [
      "Null Values Analysis(ratings Data) ;\n",
      "\n",
      "userId       0\n",
      "movieId      0\n",
      "rating       0\n",
      "timestamp    0\n",
      "dtype: int64\n",
      "\n",
      "Duplicates :  0\n",
      "\n",
      "Describe Funtion :\n",
      "\n"
     ]
    },
    {
     "data": {
      "text/html": [
       "<div>\n",
       "<style scoped>\n",
       "    .dataframe tbody tr th:only-of-type {\n",
       "        vertical-align: middle;\n",
       "    }\n",
       "\n",
       "    .dataframe tbody tr th {\n",
       "        vertical-align: top;\n",
       "    }\n",
       "\n",
       "    .dataframe thead th {\n",
       "        text-align: right;\n",
       "    }\n",
       "</style>\n",
       "<table border=\"1\" class=\"dataframe\">\n",
       "  <thead>\n",
       "    <tr style=\"text-align: right;\">\n",
       "      <th></th>\n",
       "      <th>userId</th>\n",
       "      <th>movieId</th>\n",
       "      <th>rating</th>\n",
       "      <th>timestamp</th>\n",
       "    </tr>\n",
       "  </thead>\n",
       "  <tbody>\n",
       "    <tr>\n",
       "      <th>count</th>\n",
       "      <td>105339.000000</td>\n",
       "      <td>105339.000000</td>\n",
       "      <td>105339.000000</td>\n",
       "      <td>1.053390e+05</td>\n",
       "    </tr>\n",
       "    <tr>\n",
       "      <th>mean</th>\n",
       "      <td>364.924539</td>\n",
       "      <td>13381.312477</td>\n",
       "      <td>3.516850</td>\n",
       "      <td>1.130424e+09</td>\n",
       "    </tr>\n",
       "    <tr>\n",
       "      <th>std</th>\n",
       "      <td>197.486905</td>\n",
       "      <td>26170.456869</td>\n",
       "      <td>1.044872</td>\n",
       "      <td>1.802660e+08</td>\n",
       "    </tr>\n",
       "    <tr>\n",
       "      <th>min</th>\n",
       "      <td>1.000000</td>\n",
       "      <td>1.000000</td>\n",
       "      <td>0.500000</td>\n",
       "      <td>8.285650e+08</td>\n",
       "    </tr>\n",
       "    <tr>\n",
       "      <th>25%</th>\n",
       "      <td>192.000000</td>\n",
       "      <td>1073.000000</td>\n",
       "      <td>3.000000</td>\n",
       "      <td>9.711008e+08</td>\n",
       "    </tr>\n",
       "    <tr>\n",
       "      <th>50%</th>\n",
       "      <td>383.000000</td>\n",
       "      <td>2497.000000</td>\n",
       "      <td>3.500000</td>\n",
       "      <td>1.115154e+09</td>\n",
       "    </tr>\n",
       "    <tr>\n",
       "      <th>75%</th>\n",
       "      <td>557.000000</td>\n",
       "      <td>5991.000000</td>\n",
       "      <td>4.000000</td>\n",
       "      <td>1.275496e+09</td>\n",
       "    </tr>\n",
       "    <tr>\n",
       "      <th>max</th>\n",
       "      <td>668.000000</td>\n",
       "      <td>149532.000000</td>\n",
       "      <td>5.000000</td>\n",
       "      <td>1.452405e+09</td>\n",
       "    </tr>\n",
       "  </tbody>\n",
       "</table>\n",
       "</div>"
      ],
      "text/plain": [
       "              userId        movieId         rating     timestamp\n",
       "count  105339.000000  105339.000000  105339.000000  1.053390e+05\n",
       "mean      364.924539   13381.312477       3.516850  1.130424e+09\n",
       "std       197.486905   26170.456869       1.044872  1.802660e+08\n",
       "min         1.000000       1.000000       0.500000  8.285650e+08\n",
       "25%       192.000000    1073.000000       3.000000  9.711008e+08\n",
       "50%       383.000000    2497.000000       3.500000  1.115154e+09\n",
       "75%       557.000000    5991.000000       4.000000  1.275496e+09\n",
       "max       668.000000  149532.000000       5.000000  1.452405e+09"
      ]
     },
     "execution_count": 6,
     "metadata": {},
     "output_type": "execute_result"
    }
   ],
   "source": [
    "# Missing data analysis\n",
    "print(\"Null Values Analysis(ratings Data) ;\\n\")\n",
    "print(ratings.isnull().sum())\n",
    "print(\"\\nDuplicates : \",ratings.duplicated().sum())\n",
    "print(\"\\nDescribe Funtion :\\n\")\n",
    "ratings.describe()"
   ]
  },
  {
   "cell_type": "markdown",
   "id": "b65ce12d",
   "metadata": {},
   "source": [
    "#### From above the Average Rating is 3.5 and minimum and maximum rating is 3.5 & 5. The total users which provided rating as 668 for 149532 movies"
   ]
  },
  {
   "cell_type": "code",
   "execution_count": 7,
   "id": "7ce77992",
   "metadata": {},
   "outputs": [
    {
     "name": "stdout",
     "output_type": "stream",
     "text": [
      "Null Values Analysis(movies Data) ;\n",
      "\n",
      "movieId    0\n",
      "title      0\n",
      "genres     0\n",
      "dtype: int64\n",
      "\n",
      "Duplicates :  0\n",
      "\n",
      "Describe Funtion :\n",
      "\n"
     ]
    },
    {
     "data": {
      "text/html": [
       "<div>\n",
       "<style scoped>\n",
       "    .dataframe tbody tr th:only-of-type {\n",
       "        vertical-align: middle;\n",
       "    }\n",
       "\n",
       "    .dataframe tbody tr th {\n",
       "        vertical-align: top;\n",
       "    }\n",
       "\n",
       "    .dataframe thead th {\n",
       "        text-align: right;\n",
       "    }\n",
       "</style>\n",
       "<table border=\"1\" class=\"dataframe\">\n",
       "  <thead>\n",
       "    <tr style=\"text-align: right;\">\n",
       "      <th></th>\n",
       "      <th>movieId</th>\n",
       "    </tr>\n",
       "  </thead>\n",
       "  <tbody>\n",
       "    <tr>\n",
       "      <th>count</th>\n",
       "      <td>10329.000000</td>\n",
       "    </tr>\n",
       "    <tr>\n",
       "      <th>mean</th>\n",
       "      <td>31924.282893</td>\n",
       "    </tr>\n",
       "    <tr>\n",
       "      <th>std</th>\n",
       "      <td>37734.741149</td>\n",
       "    </tr>\n",
       "    <tr>\n",
       "      <th>min</th>\n",
       "      <td>1.000000</td>\n",
       "    </tr>\n",
       "    <tr>\n",
       "      <th>25%</th>\n",
       "      <td>3240.000000</td>\n",
       "    </tr>\n",
       "    <tr>\n",
       "      <th>50%</th>\n",
       "      <td>7088.000000</td>\n",
       "    </tr>\n",
       "    <tr>\n",
       "      <th>75%</th>\n",
       "      <td>59900.000000</td>\n",
       "    </tr>\n",
       "    <tr>\n",
       "      <th>max</th>\n",
       "      <td>149532.000000</td>\n",
       "    </tr>\n",
       "  </tbody>\n",
       "</table>\n",
       "</div>"
      ],
      "text/plain": [
       "             movieId\n",
       "count   10329.000000\n",
       "mean    31924.282893\n",
       "std     37734.741149\n",
       "min         1.000000\n",
       "25%      3240.000000\n",
       "50%      7088.000000\n",
       "75%     59900.000000\n",
       "max    149532.000000"
      ]
     },
     "execution_count": 7,
     "metadata": {},
     "output_type": "execute_result"
    }
   ],
   "source": [
    "# Missing data analysis\n",
    "print(\"Null Values Analysis(movies Data) ;\\n\")\n",
    "print(movies.isnull().sum())\n",
    "print(\"\\nDuplicates : \",movies.duplicated().sum())\n",
    "print(\"\\nDescribe Funtion :\\n\")\n",
    "movies.describe()"
   ]
  },
  {
   "cell_type": "code",
   "execution_count": 8,
   "id": "283d904d",
   "metadata": {},
   "outputs": [
    {
     "data": {
      "text/html": [
       "<div>\n",
       "<style scoped>\n",
       "    .dataframe tbody tr th:only-of-type {\n",
       "        vertical-align: middle;\n",
       "    }\n",
       "\n",
       "    .dataframe tbody tr th {\n",
       "        vertical-align: top;\n",
       "    }\n",
       "\n",
       "    .dataframe thead th {\n",
       "        text-align: right;\n",
       "    }\n",
       "</style>\n",
       "<table border=\"1\" class=\"dataframe\">\n",
       "  <thead>\n",
       "    <tr style=\"text-align: right;\">\n",
       "      <th></th>\n",
       "      <th>movieId</th>\n",
       "      <th>title</th>\n",
       "      <th>genres</th>\n",
       "      <th>userId</th>\n",
       "      <th>rating</th>\n",
       "      <th>timestamp</th>\n",
       "    </tr>\n",
       "  </thead>\n",
       "  <tbody>\n",
       "    <tr>\n",
       "      <th>0</th>\n",
       "      <td>1</td>\n",
       "      <td>Toy Story (1995)</td>\n",
       "      <td>Adventure|Animation|Children|Comedy|Fantasy</td>\n",
       "      <td>2</td>\n",
       "      <td>5.0</td>\n",
       "      <td>859046895</td>\n",
       "    </tr>\n",
       "    <tr>\n",
       "      <th>1</th>\n",
       "      <td>1</td>\n",
       "      <td>Toy Story (1995)</td>\n",
       "      <td>Adventure|Animation|Children|Comedy|Fantasy</td>\n",
       "      <td>5</td>\n",
       "      <td>4.0</td>\n",
       "      <td>1303501039</td>\n",
       "    </tr>\n",
       "    <tr>\n",
       "      <th>2</th>\n",
       "      <td>1</td>\n",
       "      <td>Toy Story (1995)</td>\n",
       "      <td>Adventure|Animation|Children|Comedy|Fantasy</td>\n",
       "      <td>8</td>\n",
       "      <td>5.0</td>\n",
       "      <td>858610933</td>\n",
       "    </tr>\n",
       "    <tr>\n",
       "      <th>3</th>\n",
       "      <td>1</td>\n",
       "      <td>Toy Story (1995)</td>\n",
       "      <td>Adventure|Animation|Children|Comedy|Fantasy</td>\n",
       "      <td>11</td>\n",
       "      <td>4.0</td>\n",
       "      <td>850815810</td>\n",
       "    </tr>\n",
       "    <tr>\n",
       "      <th>4</th>\n",
       "      <td>1</td>\n",
       "      <td>Toy Story (1995)</td>\n",
       "      <td>Adventure|Animation|Children|Comedy|Fantasy</td>\n",
       "      <td>14</td>\n",
       "      <td>4.0</td>\n",
       "      <td>851766286</td>\n",
       "    </tr>\n",
       "  </tbody>\n",
       "</table>\n",
       "</div>"
      ],
      "text/plain": [
       "   movieId             title                                       genres  \\\n",
       "0        1  Toy Story (1995)  Adventure|Animation|Children|Comedy|Fantasy   \n",
       "1        1  Toy Story (1995)  Adventure|Animation|Children|Comedy|Fantasy   \n",
       "2        1  Toy Story (1995)  Adventure|Animation|Children|Comedy|Fantasy   \n",
       "3        1  Toy Story (1995)  Adventure|Animation|Children|Comedy|Fantasy   \n",
       "4        1  Toy Story (1995)  Adventure|Animation|Children|Comedy|Fantasy   \n",
       "\n",
       "   userId  rating   timestamp  \n",
       "0       2     5.0   859046895  \n",
       "1       5     4.0  1303501039  \n",
       "2       8     5.0   858610933  \n",
       "3      11     4.0   850815810  \n",
       "4      14     4.0   851766286  "
      ]
     },
     "execution_count": 8,
     "metadata": {},
     "output_type": "execute_result"
    }
   ],
   "source": [
    "# Merge the dataset for combined analysis\n",
    "movies_ratings = pd.merge(movies, ratings, on=\"movieId\")\n",
    "movies_ratings.head()"
   ]
  },
  {
   "cell_type": "code",
   "execution_count": 9,
   "id": "6b827ec5",
   "metadata": {},
   "outputs": [
    {
     "name": "stdout",
     "output_type": "stream",
     "text": [
      "Unique Users : 668\n",
      "Unique Movies : 10325\n"
     ]
    }
   ],
   "source": [
    "# Finding unique users and movies\n",
    "Unique_user = movies_ratings[\"userId\"].nunique()\n",
    "Unique_movies = movies_ratings[\"movieId\"].nunique()\n",
    "\n",
    "print(f\"Unique Users : {Unique_user}\")\n",
    "print(f\"Unique Movies : {Unique_movies}\")"
   ]
  },
  {
   "cell_type": "code",
   "execution_count": 10,
   "id": "2a613678",
   "metadata": {},
   "outputs": [],
   "source": [
    "# For example\n",
    "Genre = \"Comedy\"\n",
    "min_reviews = 100\n",
    "top_recommdation = 10"
   ]
  },
  {
   "cell_type": "code",
   "execution_count": 11,
   "id": "422495ab",
   "metadata": {},
   "outputs": [],
   "source": [
    "# Split genres\n",
    "movies_ratings[\"genres\"] = movies_ratings[\"genres\"].str.split('|')   # Converting each genre string into a list of genres.\n",
    "movies_ratings = movies_ratings.explode(\"genres\")  # It will now appear in multiple rows, one for each genre.\n",
    "filter_movies_genres = movies_ratings[movies_ratings[\"genres\"] == Genre]"
   ]
  },
  {
   "cell_type": "code",
   "execution_count": 12,
   "id": "c26edae9",
   "metadata": {},
   "outputs": [
    {
     "data": {
      "text/html": [
       "<div>\n",
       "<style scoped>\n",
       "    .dataframe tbody tr th:only-of-type {\n",
       "        vertical-align: middle;\n",
       "    }\n",
       "\n",
       "    .dataframe tbody tr th {\n",
       "        vertical-align: top;\n",
       "    }\n",
       "\n",
       "    .dataframe thead th {\n",
       "        text-align: right;\n",
       "    }\n",
       "</style>\n",
       "<table border=\"1\" class=\"dataframe\">\n",
       "  <thead>\n",
       "    <tr style=\"text-align: right;\">\n",
       "      <th></th>\n",
       "      <th>Avg_rating</th>\n",
       "      <th>Total_movies</th>\n",
       "    </tr>\n",
       "    <tr>\n",
       "      <th>genres</th>\n",
       "      <th></th>\n",
       "      <th></th>\n",
       "    </tr>\n",
       "  </thead>\n",
       "  <tbody>\n",
       "    <tr>\n",
       "      <th>Action</th>\n",
       "      <td>3.5</td>\n",
       "      <td>1737</td>\n",
       "    </tr>\n",
       "    <tr>\n",
       "      <th>Adventure</th>\n",
       "      <td>3.5</td>\n",
       "      <td>1164</td>\n",
       "    </tr>\n",
       "    <tr>\n",
       "      <th>Animation</th>\n",
       "      <td>3.6</td>\n",
       "      <td>400</td>\n",
       "    </tr>\n",
       "    <tr>\n",
       "      <th>Children</th>\n",
       "      <td>3.4</td>\n",
       "      <td>540</td>\n",
       "    </tr>\n",
       "    <tr>\n",
       "      <th>Comedy</th>\n",
       "      <td>3.4</td>\n",
       "      <td>3513</td>\n",
       "    </tr>\n",
       "    <tr>\n",
       "      <th>Crime</th>\n",
       "      <td>3.6</td>\n",
       "      <td>1440</td>\n",
       "    </tr>\n",
       "    <tr>\n",
       "      <th>Documentary</th>\n",
       "      <td>3.6</td>\n",
       "      <td>415</td>\n",
       "    </tr>\n",
       "    <tr>\n",
       "      <th>Drama</th>\n",
       "      <td>3.7</td>\n",
       "      <td>5218</td>\n",
       "    </tr>\n",
       "    <tr>\n",
       "      <th>Fantasy</th>\n",
       "      <td>3.5</td>\n",
       "      <td>670</td>\n",
       "    </tr>\n",
       "    <tr>\n",
       "      <th>Film-Noir</th>\n",
       "      <td>3.9</td>\n",
       "      <td>195</td>\n",
       "    </tr>\n",
       "    <tr>\n",
       "      <th>Horror</th>\n",
       "      <td>3.3</td>\n",
       "      <td>1001</td>\n",
       "    </tr>\n",
       "    <tr>\n",
       "      <th>IMAX</th>\n",
       "      <td>3.6</td>\n",
       "      <td>152</td>\n",
       "    </tr>\n",
       "    <tr>\n",
       "      <th>Musical</th>\n",
       "      <td>3.6</td>\n",
       "      <td>409</td>\n",
       "    </tr>\n",
       "    <tr>\n",
       "      <th>Mystery</th>\n",
       "      <td>3.7</td>\n",
       "      <td>675</td>\n",
       "    </tr>\n",
       "    <tr>\n",
       "      <th>Romance</th>\n",
       "      <td>3.5</td>\n",
       "      <td>1788</td>\n",
       "    </tr>\n",
       "    <tr>\n",
       "      <th>Sci-Fi</th>\n",
       "      <td>3.5</td>\n",
       "      <td>859</td>\n",
       "    </tr>\n",
       "    <tr>\n",
       "      <th>Thriller</th>\n",
       "      <td>3.5</td>\n",
       "      <td>2187</td>\n",
       "    </tr>\n",
       "    <tr>\n",
       "      <th>War</th>\n",
       "      <td>3.8</td>\n",
       "      <td>503</td>\n",
       "    </tr>\n",
       "    <tr>\n",
       "      <th>Western</th>\n",
       "      <td>3.6</td>\n",
       "      <td>235</td>\n",
       "    </tr>\n",
       "  </tbody>\n",
       "</table>\n",
       "</div>"
      ],
      "text/plain": [
       "             Avg_rating  Total_movies\n",
       "genres                               \n",
       "Action              3.5          1737\n",
       "Adventure           3.5          1164\n",
       "Animation           3.6           400\n",
       "Children            3.4           540\n",
       "Comedy              3.4          3513\n",
       "Crime               3.6          1440\n",
       "Documentary         3.6           415\n",
       "Drama               3.7          5218\n",
       "Fantasy             3.5           670\n",
       "Film-Noir           3.9           195\n",
       "Horror              3.3          1001\n",
       "IMAX                3.6           152\n",
       "Musical             3.6           409\n",
       "Mystery             3.7           675\n",
       "Romance             3.5          1788\n",
       "Sci-Fi              3.5           859\n",
       "Thriller            3.5          2187\n",
       "War                 3.8           503\n",
       "Western             3.6           235"
      ]
     },
     "execution_count": 12,
     "metadata": {},
     "output_type": "execute_result"
    }
   ],
   "source": [
    "#  Average rating and Total movies at genre level.\n",
    "Average_rating_genre = movies_ratings.groupby(\"genres\")[\"rating\"].mean()\n",
    "Total_movies_genre = movies_ratings.groupby(\"genres\")[\"movieId\"].nunique()\n",
    "\n",
    "rating_movie_genre = pd.DataFrame({\"Avg_rating\":round(Average_rating_genre,1),\"Total_movies\":Total_movies_genre})\n",
    "rating_movie_genre[1:]"
   ]
  },
  {
   "cell_type": "code",
   "execution_count": 13,
   "id": "24792fe0",
   "metadata": {},
   "outputs": [
    {
     "name": "stdout",
     "output_type": "stream",
     "text": [
      "Unique Genres : ['Adventure' 'Animation' 'Children' 'Comedy' 'Fantasy' 'Romance' 'Drama'\n",
      " 'Action' 'Crime' 'Thriller' 'Horror' 'Mystery' 'Sci-Fi' 'IMAX' 'War'\n",
      " 'Musical' 'Documentary' 'Western' 'Film-Noir' '(no genres listed)']\n"
     ]
    }
   ],
   "source": [
    "#Unique genres considered..\n",
    "Unique_genres = movies_ratings[\"genres\"].unique()\n",
    "print(f\"Unique Genres : {Unique_genres}\")"
   ]
  },
  {
   "cell_type": "code",
   "execution_count": 14,
   "id": "7f37168a",
   "metadata": {},
   "outputs": [
    {
     "data": {
      "text/plain": [
       "title\n",
       "Pulp Fiction (1994)                 1300\n",
       "Forrest Gump (1994)                 1244\n",
       "Jurassic Park (1993)                1176\n",
       "Toy Story (1995)                    1160\n",
       "Lion King, The (1994)               1074\n",
       "Aladdin (1992)                       955\n",
       "Shrek (2001)                         948\n",
       "True Lies (1994)                     920\n",
       "Silence of the Lambs, The (1991)     870\n",
       "Beauty and the Beast (1991)          858\n",
       "Name: count, dtype: int64"
      ]
     },
     "execution_count": 14,
     "metadata": {},
     "output_type": "execute_result"
    }
   ],
   "source": [
    "most_rated=movies_ratings['title'].value_counts().head(10)\n",
    "most_rated"
   ]
  },
  {
   "cell_type": "markdown",
   "id": "47ef70ff",
   "metadata": {},
   "source": [
    "### Data Visualizations"
   ]
  },
  {
   "cell_type": "code",
   "execution_count": 15,
   "id": "8358599b",
   "metadata": {},
   "outputs": [
    {
     "data": {
      "image/png": "[encoded data removed]",
      "text/plain": [
       "<Figure size 1500x500 with 1 Axes>"
      ]
     },
     "metadata": {},
     "output_type": "display_data"
    }
   ],
   "source": [
    "# Most Rated Movies\n",
    "\n",
    "plt.figure(figsize=(15,5))\n",
    "sns.barplot(x=most_rated.index,y=most_rated.values,palette='plasma')\n",
    "plt.title(\"Top 10 Most Rated Movies\", fontweight='bold',color='brown',size=25)\n",
    "plt.xticks(rotation=45,ha='right')\n",
    "plt.xlabel(\"Movie Titles\",fontweight='bold',color='k',size=15)\n",
    "plt.ylabel(\"Number of ratings\",fontweight='bold',color='k',size=15)\n",
    "plt.grid(axis='y',linestyle=\"--\",color=\"gray\",alpha=0.5)\n",
    "plt.show()"
   ]
  },
  {
   "cell_type": "code",
   "execution_count": 16,
   "id": "edd4c7cd",
   "metadata": {},
   "outputs": [
    {
     "data": {
      "image/png": "[encoded data removed]",
      "text/plain": [
       "<Figure size 1500x500 with 1 Axes>"
      ]
     },
     "metadata": {},
     "output_type": "display_data"
    }
   ],
   "source": [
    "# Highest rated movies\n",
    "avg_rating = movies_ratings.groupby('title')['rating'].mean()\n",
    "rating_count = movies_ratings['title'].value_counts()\n",
    "avg_rating_movie = avg_rating[rating_count > 200].sort_values(ascending=False).head(10)\n",
    "plt.figure(figsize=(15,5))\n",
    "sns.barplot(x=avg_rating_movie.index,y=avg_rating_movie.values,width=0.6,palette=\"hot\",edgecolor='gray')\n",
    "plt.ylabel(\"Movie Title\",fontweight='bold',color='k',size=10)\n",
    "plt.xlabel(\"Average Rating\",fontweight='bold',color='k',size=10)\n",
    "plt.xticks(rotation=45,ha='right')\n",
    "plt.yticks(np.arange(0.0,5.1,0.5))\n",
    "plt.title(\"Top 10 Highest Rated Movies\", fontweight='bold',color='brown',size=25)\n",
    "plt.grid(True,axis=\"y\",linestyle=\"--\",alpha=0.3)\n",
    "plt.show()"
   ]
  },
  {
   "cell_type": "code",
   "execution_count": 17,
   "id": "3e36421d",
   "metadata": {},
   "outputs": [
    {
     "data": {
      "text/html": [
       "<div>\n",
       "<style scoped>\n",
       "    .dataframe tbody tr th:only-of-type {\n",
       "        vertical-align: middle;\n",
       "    }\n",
       "\n",
       "    .dataframe tbody tr th {\n",
       "        vertical-align: top;\n",
       "    }\n",
       "\n",
       "    .dataframe thead th {\n",
       "        text-align: right;\n",
       "    }\n",
       "</style>\n",
       "<table border=\"1\" class=\"dataframe\">\n",
       "  <thead>\n",
       "    <tr style=\"text-align: right;\">\n",
       "      <th></th>\n",
       "      <th>movieId</th>\n",
       "      <th>title</th>\n",
       "      <th>genres</th>\n",
       "      <th>userId</th>\n",
       "      <th>rating</th>\n",
       "      <th>timestamp</th>\n",
       "    </tr>\n",
       "  </thead>\n",
       "  <tbody>\n",
       "    <tr>\n",
       "      <th>0</th>\n",
       "      <td>1</td>\n",
       "      <td>Toy Story (1995)</td>\n",
       "      <td>Adventure</td>\n",
       "      <td>2</td>\n",
       "      <td>5.0</td>\n",
       "      <td>859046895</td>\n",
       "    </tr>\n",
       "    <tr>\n",
       "      <th>0</th>\n",
       "      <td>1</td>\n",
       "      <td>Toy Story (1995)</td>\n",
       "      <td>Animation</td>\n",
       "      <td>2</td>\n",
       "      <td>5.0</td>\n",
       "      <td>859046895</td>\n",
       "    </tr>\n",
       "    <tr>\n",
       "      <th>0</th>\n",
       "      <td>1</td>\n",
       "      <td>Toy Story (1995)</td>\n",
       "      <td>Children</td>\n",
       "      <td>2</td>\n",
       "      <td>5.0</td>\n",
       "      <td>859046895</td>\n",
       "    </tr>\n",
       "    <tr>\n",
       "      <th>0</th>\n",
       "      <td>1</td>\n",
       "      <td>Toy Story (1995)</td>\n",
       "      <td>Comedy</td>\n",
       "      <td>2</td>\n",
       "      <td>5.0</td>\n",
       "      <td>859046895</td>\n",
       "    </tr>\n",
       "    <tr>\n",
       "      <th>0</th>\n",
       "      <td>1</td>\n",
       "      <td>Toy Story (1995)</td>\n",
       "      <td>Fantasy</td>\n",
       "      <td>2</td>\n",
       "      <td>5.0</td>\n",
       "      <td>859046895</td>\n",
       "    </tr>\n",
       "  </tbody>\n",
       "</table>\n",
       "</div>"
      ],
      "text/plain": [
       "   movieId             title     genres  userId  rating  timestamp\n",
       "0        1  Toy Story (1995)  Adventure       2     5.0  859046895\n",
       "0        1  Toy Story (1995)  Animation       2     5.0  859046895\n",
       "0        1  Toy Story (1995)   Children       2     5.0  859046895\n",
       "0        1  Toy Story (1995)     Comedy       2     5.0  859046895\n",
       "0        1  Toy Story (1995)    Fantasy       2     5.0  859046895"
      ]
     },
     "execution_count": 17,
     "metadata": {},
     "output_type": "execute_result"
    }
   ],
   "source": [
    "movies_ratings.head()"
   ]
  },
  {
   "cell_type": "code",
   "execution_count": 18,
   "id": "da4c648b",
   "metadata": {},
   "outputs": [],
   "source": [
    "# Create a dataframe with the average rating and number of reviews for each movie.\n",
    "\n",
    "Avg_ratings = filter_movies_genres.groupby(\"movieId\").agg(avg_rating=(\"rating\",\"mean\"), top_reviews=(\"rating\",\"count\")).reset_index()\n",
    "Avg_ratings = Avg_ratings.merge(movies[['movieId', 'title']], on='movieId')"
   ]
  },
  {
   "cell_type": "code",
   "execution_count": 19,
   "id": "075a27f6",
   "metadata": {},
   "outputs": [
    {
     "data": {
      "text/html": [
       "<div>\n",
       "<style scoped>\n",
       "    .dataframe tbody tr th:only-of-type {\n",
       "        vertical-align: middle;\n",
       "    }\n",
       "\n",
       "    .dataframe tbody tr th {\n",
       "        vertical-align: top;\n",
       "    }\n",
       "\n",
       "    .dataframe thead th {\n",
       "        text-align: right;\n",
       "    }\n",
       "</style>\n",
       "<table border=\"1\" class=\"dataframe\">\n",
       "  <thead>\n",
       "    <tr style=\"text-align: right;\">\n",
       "      <th></th>\n",
       "      <th>movieId</th>\n",
       "      <th>avg_rating</th>\n",
       "      <th>top_reviews</th>\n",
       "      <th>title</th>\n",
       "    </tr>\n",
       "  </thead>\n",
       "  <tbody>\n",
       "    <tr>\n",
       "      <th>0</th>\n",
       "      <td>1</td>\n",
       "      <td>3.907328</td>\n",
       "      <td>232</td>\n",
       "      <td>Toy Story (1995)</td>\n",
       "    </tr>\n",
       "    <tr>\n",
       "      <th>1</th>\n",
       "      <td>3</td>\n",
       "      <td>3.189655</td>\n",
       "      <td>58</td>\n",
       "      <td>Grumpier Old Men (1995)</td>\n",
       "    </tr>\n",
       "    <tr>\n",
       "      <th>2</th>\n",
       "      <td>4</td>\n",
       "      <td>2.818182</td>\n",
       "      <td>11</td>\n",
       "      <td>Waiting to Exhale (1995)</td>\n",
       "    </tr>\n",
       "    <tr>\n",
       "      <th>3</th>\n",
       "      <td>5</td>\n",
       "      <td>3.250000</td>\n",
       "      <td>62</td>\n",
       "      <td>Father of the Bride Part II (1995)</td>\n",
       "    </tr>\n",
       "    <tr>\n",
       "      <th>4</th>\n",
       "      <td>7</td>\n",
       "      <td>3.381818</td>\n",
       "      <td>55</td>\n",
       "      <td>Sabrina (1995)</td>\n",
       "    </tr>\n",
       "  </tbody>\n",
       "</table>\n",
       "</div>"
      ],
      "text/plain": [
       "   movieId  avg_rating  top_reviews                               title\n",
       "0        1    3.907328          232                    Toy Story (1995)\n",
       "1        3    3.189655           58             Grumpier Old Men (1995)\n",
       "2        4    2.818182           11            Waiting to Exhale (1995)\n",
       "3        5    3.250000           62  Father of the Bride Part II (1995)\n",
       "4        7    3.381818           55                      Sabrina (1995)"
      ]
     },
     "execution_count": 19,
     "metadata": {},
     "output_type": "execute_result"
    }
   ],
   "source": [
    "Avg_ratings.head()"
   ]
  },
  {
   "cell_type": "code",
   "execution_count": 20,
   "id": "e00f4d35",
   "metadata": {},
   "outputs": [],
   "source": [
    "Avg_ratings[\"avg_rating\"] = round((Avg_ratings[\"avg_rating\"]),1)"
   ]
  },
  {
   "cell_type": "code",
   "execution_count": 21,
   "id": "6e85d647",
   "metadata": {},
   "outputs": [],
   "source": [
    "# Filter by minimum reviews threshold\n",
    "filtered_ratings = Avg_ratings[Avg_ratings[\"top_reviews\"]>= min_reviews]\n",
    "\n",
    "# Sort ratings by avg ratings\n",
    "Sort_ratings = filtered_ratings.sort_values(by= \"avg_rating\", ascending=False)\n",
    "\n",
    "# Select top 10 movies\n",
    "recommdation = Sort_ratings.head(top_recommdation)"
   ]
  },
  {
   "cell_type": "code",
   "execution_count": 22,
   "id": "3fd49099",
   "metadata": {},
   "outputs": [
    {
     "data": {
      "text/html": [
       "<div>\n",
       "<style scoped>\n",
       "    .dataframe tbody tr th:only-of-type {\n",
       "        vertical-align: middle;\n",
       "    }\n",
       "\n",
       "    .dataframe tbody tr th {\n",
       "        vertical-align: top;\n",
       "    }\n",
       "\n",
       "    .dataframe thead th {\n",
       "        text-align: right;\n",
       "    }\n",
       "</style>\n",
       "<table border=\"1\" class=\"dataframe\">\n",
       "  <thead>\n",
       "    <tr style=\"text-align: right;\">\n",
       "      <th></th>\n",
       "      <th>movieId</th>\n",
       "      <th>avg_rating</th>\n",
       "      <th>top_reviews</th>\n",
       "      <th>title</th>\n",
       "    </tr>\n",
       "  </thead>\n",
       "  <tbody>\n",
       "    <tr>\n",
       "      <th>193</th>\n",
       "      <td>608</td>\n",
       "      <td>4.3</td>\n",
       "      <td>201</td>\n",
       "      <td>Fargo (1996)</td>\n",
       "    </tr>\n",
       "    <tr>\n",
       "      <th>326</th>\n",
       "      <td>1136</td>\n",
       "      <td>4.3</td>\n",
       "      <td>154</td>\n",
       "      <td>Monty Python and the Holy Grail (1975)</td>\n",
       "    </tr>\n",
       "    <tr>\n",
       "      <th>90</th>\n",
       "      <td>296</td>\n",
       "      <td>4.2</td>\n",
       "      <td>325</td>\n",
       "      <td>Pulp Fiction (1994)</td>\n",
       "    </tr>\n",
       "    <tr>\n",
       "      <th>337</th>\n",
       "      <td>1197</td>\n",
       "      <td>4.2</td>\n",
       "      <td>171</td>\n",
       "      <td>Princess Bride, The (1987)</td>\n",
       "    </tr>\n",
       "    <tr>\n",
       "      <th>1398</th>\n",
       "      <td>4973</td>\n",
       "      <td>4.1</td>\n",
       "      <td>119</td>\n",
       "      <td>Amelie (Fabuleux destin d'Amélie Poulain, Le) ...</td>\n",
       "    </tr>\n",
       "  </tbody>\n",
       "</table>\n",
       "</div>"
      ],
      "text/plain": [
       "      movieId  avg_rating  top_reviews  \\\n",
       "193       608         4.3          201   \n",
       "326      1136         4.3          154   \n",
       "90        296         4.2          325   \n",
       "337      1197         4.2          171   \n",
       "1398     4973         4.1          119   \n",
       "\n",
       "                                                  title  \n",
       "193                                        Fargo (1996)  \n",
       "326              Monty Python and the Holy Grail (1975)  \n",
       "90                                  Pulp Fiction (1994)  \n",
       "337                          Princess Bride, The (1987)  \n",
       "1398  Amelie (Fabuleux destin d'Amélie Poulain, Le) ...  "
      ]
     },
     "execution_count": 22,
     "metadata": {},
     "output_type": "execute_result"
    }
   ],
   "source": [
    "recommdation.head()"
   ]
  },
  {
   "cell_type": "code",
   "execution_count": 23,
   "id": "4cd33d83",
   "metadata": {},
   "outputs": [
    {
     "name": "stdout",
     "output_type": "stream",
     "text": [
      "                                               title  avg_rating  top_reviews\n",
      "0                                       Fargo (1996)         4.3          201\n",
      "1             Monty Python and the Holy Grail (1975)         4.3          154\n",
      "2                                Pulp Fiction (1994)         4.2          325\n",
      "3                         Princess Bride, The (1987)         4.2          171\n",
      "4  Amelie (Fabuleux destin d'Amélie Poulain, Le) ...         4.1          119\n",
      "5                                Forrest Gump (1994)         4.1          311\n",
      "6  Dr. Strangelove or: How I Learned to Stop Worr...         4.1          125\n",
      "7                                      Clerks (1994)         4.0          101\n",
      "8                        Being John Malkovich (1999)         4.0          124\n",
      "9                           Big Lebowski, The (1998)         4.0          106\n"
     ]
    }
   ],
   "source": [
    "Recommdation_user = recommdation.reset_index(drop=True)\n",
    "\n",
    "# Display the recommdation\n",
    "print(Recommdation_user[[\"title\",\"avg_rating\",\"top_reviews\"]])"
   ]
  },
  {
   "cell_type": "code",
   "execution_count": 24,
   "id": "f26949e0",
   "metadata": {},
   "outputs": [
    {
     "data": {
      "text/html": [
       "<div>\n",
       "<style scoped>\n",
       "    .dataframe tbody tr th:only-of-type {\n",
       "        vertical-align: middle;\n",
       "    }\n",
       "\n",
       "    .dataframe tbody tr th {\n",
       "        vertical-align: top;\n",
       "    }\n",
       "\n",
       "    .dataframe thead th {\n",
       "        text-align: right;\n",
       "    }\n",
       "</style>\n",
       "<table border=\"1\" class=\"dataframe\">\n",
       "  <thead>\n",
       "    <tr style=\"text-align: right;\">\n",
       "      <th></th>\n",
       "      <th>movieId</th>\n",
       "      <th>avg_rating</th>\n",
       "      <th>top_reviews</th>\n",
       "      <th>title</th>\n",
       "    </tr>\n",
       "  </thead>\n",
       "  <tbody>\n",
       "    <tr>\n",
       "      <th>0</th>\n",
       "      <td>608</td>\n",
       "      <td>4.3</td>\n",
       "      <td>201</td>\n",
       "      <td>Fargo (1996)</td>\n",
       "    </tr>\n",
       "    <tr>\n",
       "      <th>1</th>\n",
       "      <td>1136</td>\n",
       "      <td>4.3</td>\n",
       "      <td>154</td>\n",
       "      <td>Monty Python and the Holy Grail (1975)</td>\n",
       "    </tr>\n",
       "    <tr>\n",
       "      <th>2</th>\n",
       "      <td>296</td>\n",
       "      <td>4.2</td>\n",
       "      <td>325</td>\n",
       "      <td>Pulp Fiction (1994)</td>\n",
       "    </tr>\n",
       "    <tr>\n",
       "      <th>3</th>\n",
       "      <td>1197</td>\n",
       "      <td>4.2</td>\n",
       "      <td>171</td>\n",
       "      <td>Princess Bride, The (1987)</td>\n",
       "    </tr>\n",
       "    <tr>\n",
       "      <th>4</th>\n",
       "      <td>4973</td>\n",
       "      <td>4.1</td>\n",
       "      <td>119</td>\n",
       "      <td>Amelie (Fabuleux destin d'Amélie Poulain, Le) ...</td>\n",
       "    </tr>\n",
       "    <tr>\n",
       "      <th>5</th>\n",
       "      <td>356</td>\n",
       "      <td>4.1</td>\n",
       "      <td>311</td>\n",
       "      <td>Forrest Gump (1994)</td>\n",
       "    </tr>\n",
       "    <tr>\n",
       "      <th>6</th>\n",
       "      <td>750</td>\n",
       "      <td>4.1</td>\n",
       "      <td>125</td>\n",
       "      <td>Dr. Strangelove or: How I Learned to Stop Worr...</td>\n",
       "    </tr>\n",
       "    <tr>\n",
       "      <th>7</th>\n",
       "      <td>223</td>\n",
       "      <td>4.0</td>\n",
       "      <td>101</td>\n",
       "      <td>Clerks (1994)</td>\n",
       "    </tr>\n",
       "    <tr>\n",
       "      <th>8</th>\n",
       "      <td>2997</td>\n",
       "      <td>4.0</td>\n",
       "      <td>124</td>\n",
       "      <td>Being John Malkovich (1999)</td>\n",
       "    </tr>\n",
       "    <tr>\n",
       "      <th>9</th>\n",
       "      <td>1732</td>\n",
       "      <td>4.0</td>\n",
       "      <td>106</td>\n",
       "      <td>Big Lebowski, The (1998)</td>\n",
       "    </tr>\n",
       "  </tbody>\n",
       "</table>\n",
       "</div>"
      ],
      "text/plain": [
       "   movieId  avg_rating  top_reviews  \\\n",
       "0      608         4.3          201   \n",
       "1     1136         4.3          154   \n",
       "2      296         4.2          325   \n",
       "3     1197         4.2          171   \n",
       "4     4973         4.1          119   \n",
       "5      356         4.1          311   \n",
       "6      750         4.1          125   \n",
       "7      223         4.0          101   \n",
       "8     2997         4.0          124   \n",
       "9     1732         4.0          106   \n",
       "\n",
       "                                               title  \n",
       "0                                       Fargo (1996)  \n",
       "1             Monty Python and the Holy Grail (1975)  \n",
       "2                                Pulp Fiction (1994)  \n",
       "3                         Princess Bride, The (1987)  \n",
       "4  Amelie (Fabuleux destin d'Amélie Poulain, Le) ...  \n",
       "5                                Forrest Gump (1994)  \n",
       "6  Dr. Strangelove or: How I Learned to Stop Worr...  \n",
       "7                                      Clerks (1994)  \n",
       "8                        Being John Malkovich (1999)  \n",
       "9                           Big Lebowski, The (1998)  "
      ]
     },
     "execution_count": 24,
     "metadata": {},
     "output_type": "execute_result"
    }
   ],
   "source": [
    "Recommdation_user.head(10)"
   ]
  },
  {
   "cell_type": "code",
   "execution_count": 25,
   "id": "2baa5188",
   "metadata": {},
   "outputs": [
    {
     "name": "stdout",
     "output_type": "stream",
     "text": [
      "+-------+-----------------------------------------------------------------------------+----------------------+-------------+\n",
      "| Sr.No |                                 Movie Title                                 | Average Movie Rating | Num Reviews |\n",
      "+-------+-----------------------------------------------------------------------------+----------------------+-------------+\n",
      "|   1   |                                Fargo (1996)                                 |         4.3          |     201     |\n",
      "|   2   |                   Monty Python and the Holy Grail (1975)                    |         4.3          |     154     |\n",
      "|   3   |                             Pulp Fiction (1994)                             |         4.2          |     325     |\n",
      "|   4   |                         Princess Bride, The (1987)                          |         4.2          |     171     |\n",
      "|   5   |            Amelie (Fabuleux destin d'Amélie Poulain, Le) (2001)             |         4.1          |     119     |\n",
      "|   6   |                             Forrest Gump (1994)                             |         4.1          |     311     |\n",
      "|   7   | Dr. Strangelove or: How I Learned to Stop Worrying and Love the Bomb (1964) |         4.1          |     125     |\n",
      "|   8   |                                Clerks (1994)                                |         4.0          |     101     |\n",
      "|   9   |                         Being John Malkovich (1999)                         |         4.0          |     124     |\n",
      "|  10   |                          Big Lebowski, The (1998)                           |         4.0          |     106     |\n",
      "+-------+-----------------------------------------------------------------------------+----------------------+-------------+\n"
     ]
    }
   ],
   "source": [
    "from tabulate import tabulate\n",
    "\n",
    "Table = Recommdation_user[[\"title\",\"avg_rating\",\"top_reviews\"]].values.tolist()\n",
    "\n",
    "for i,row in enumerate(Table):\n",
    "    row.insert(0,i+1)\n",
    "\n",
    "# Define Headers\n",
    "headers = [\"Sr.No\",\"Movie Title\",\"Average Movie Rating\",\"Num Reviews\"]\n",
    "\n",
    "# Create table to display output\n",
    "print(tabulate(Table, headers=headers, tablefmt='pretty'))\n",
    "\n",
    "# 'plain', 'simple', 'grid', 'pipe', 'orgtbl', 'rst', 'mediawiki',\n",
    "#'latex', 'latex_raw', 'latex_booktabs', 'latex_longtable' and tsv.\n"
   ]
  },
  {
   "cell_type": "code",
   "execution_count": 26,
   "id": "5e7bdf7a",
   "metadata": {},
   "outputs": [],
   "source": [
    "# create function to generate recommdation of Movies of user on basis of the genre(match the genre of users movies with \n",
    "# all movies and extrat top movies by rating)\n",
    "\n",
    "def output(movies,ratings,Genre,min_reviews,top_recommdation):\n",
    "    movies_ratings = pd.merge(movies, ratings, on=\"movieId\")\n",
    "    \n",
    "    movies_ratings[\"genres\"] = movies_ratings[\"genres\"].str.split('|')   # Converting each genre string into a list of genres.\n",
    "    movies_ratings = movies_ratings.explode(\"genres\")  # It will now appear in multiple rows, one for each genre.\n",
    "    filter_movies_genres = movies_ratings[movies_ratings[\"genres\"] == Genre]\n",
    "    \n",
    "    Avg_ratings = filter_movies_genres.groupby(\"movieId\").agg(avg_rating=(\"rating\",\"mean\"), top_reviews=(\"rating\",\"count\")).reset_index()\n",
    "    Avg_ratings = Avg_ratings.merge(movies[['movieId', 'title']], on='movieId')\n",
    "    Avg_ratings[\"avg_rating\"] = round((Avg_ratings[\"avg_rating\"]),1)\n",
    "    \n",
    "    # Filter by minimum reviews threshold\n",
    "    filtered_ratings = Avg_ratings[Avg_ratings[\"top_reviews\"]>= min_reviews]\n",
    "\n",
    "    # Sort ratings by avg ratings\n",
    "    Sort_ratings = filtered_ratings.sort_values(by= \"avg_rating\", ascending=False)\n",
    "\n",
    "    # Select top 10 movies\n",
    "    recommdation = Sort_ratings.head(top_recommdation)\n",
    "    Recommdation_user = recommdation.reset_index(drop=True)\n",
    "    \n",
    "    Table = Recommdation_user[[\"title\",\"avg_rating\",\"top_reviews\"]].values.tolist()\n",
    "\n",
    "    for i,row in enumerate(Table):\n",
    "        row.insert(0,i+1)\n",
    "\n",
    "    # Define Headers\n",
    "    headers = [\"Sr.No\",\"Movie Title\",\"Average Movie Rating\",\"Num Reviews\"]\n",
    "\n",
    "    # Create table to display output\n",
    "    return print(tabulate(Table, headers=headers, tablefmt='pretty'))"
   ]
  },
  {
   "cell_type": "code",
   "execution_count": 27,
   "id": "9e02e115",
   "metadata": {},
   "outputs": [],
   "source": [
    "# Create a function to take input from user and generate recommendation accordingly(using IPywidgets library)\n",
    "def recommdation():\n",
    "    print(\"*Movie Recommendation by Popularity\")\n",
    "    Genre_wid = widgets.Dropdown(\n",
    "        options = sorted(movies[\"genres\"].str.split(\"|\").explode().unique()),\n",
    "        description=\"Genre: \")\n",
    "    min_reviews_wid = widgets.IntText(description=\"Minimum reviews threshold  : \")\n",
    "    top_recommendation_wid = widgets.IntText(description=\"Num recommendations : \")\n",
    "    \n",
    "    inputs = widgets.VBox([Genre_wid, min_reviews_wid, top_recommendation_wid])\n",
    "    display(inputs)\n",
    "    \n",
    "    # Adjust the layout to ensure the description labels are fully visible\n",
    "    Genre_wid.style.description_width = 'initial'\n",
    "    min_reviews_wid.style.description_width = 'initial'\n",
    "    top_recommendation_wid.style.description_width = 'initial'\n",
    "    \n",
    "    def on_submit(change):\n",
    "        Genre = Genre_wid.value\n",
    "        min_reviews = min_reviews_wid.value\n",
    "        top_recommdation = top_recommendation_wid.value\n",
    "    \n",
    "        output(movies,ratings,Genre,min_reviews,top_recommdation)\n",
    "        \n",
    "    button = widgets.Button(description=\"Get Recommendation\")\n",
    "    button.on_click(on_submit)\n",
    "    display(button)"
   ]
  },
  {
   "cell_type": "code",
   "execution_count": 28,
   "id": "2bb3e19d",
   "metadata": {},
   "outputs": [
    {
     "name": "stdout",
     "output_type": "stream",
     "text": [
      "*Movie Recommendation by Popularity\n"
     ]
    },
    {
     "data": {
      "application/vnd.jupyter.widget-view+json": {
       "model_id": "2728537dd7a6496cb7cfe49973d9298e",
       "version_major": 2,
       "version_minor": 0
      },
      "text/plain": [
       "VBox(children=(Dropdown(description='Genre: ', options=('(no genres listed)', 'Action', 'Adventure', 'Animatio…"
      ]
     },
     "metadata": {},
     "output_type": "display_data"
    },
    {
     "data": {
      "application/vnd.jupyter.widget-view+json": {
       "model_id": "5a33481ead244369b92ebc3b272ee5eb",
       "version_major": 2,
       "version_minor": 0
      },
      "text/plain": [
       "Button(description='Get Recommendation', style=ButtonStyle())"
      ]
     },
     "metadata": {},
     "output_type": "display_data"
    },
    {
     "name": "stdout",
     "output_type": "stream",
     "text": [
      "+-------+------------------------------------------------------+----------------------+-------------+\n",
      "| Sr.No |                     Movie Title                      | Average Movie Rating | Num Reviews |\n",
      "+-------+------------------------------------------------------+----------------------+-------------+\n",
      "|   1   |                     Fargo (1996)                     |         4.3          |     201     |\n",
      "|   2   |        Monty Python and the Holy Grail (1975)        |         4.3          |     154     |\n",
      "|   3   |                 Pulp Fiction (1994)                  |         4.2          |     325     |\n",
      "|   4   |              Princess Bride, The (1987)              |         4.2          |     171     |\n",
      "|   5   | Amelie (Fabuleux destin d'Amélie Poulain, Le) (2001) |         4.1          |     119     |\n",
      "+-------+------------------------------------------------------+----------------------+-------------+\n"
     ]
    }
   ],
   "source": [
    "recommdation()"
   ]
  },
  {
   "cell_type": "code",
   "execution_count": 29,
   "id": "b0224c7e",
   "metadata": {},
   "outputs": [
    {
     "name": "stdout",
     "output_type": "stream",
     "text": [
      "*Movie Recommendation by Popularity\n"
     ]
    },
    {
     "data": {
      "application/vnd.jupyter.widget-view+json": {
       "model_id": "ea45e363b56f433ba9bf746f324d7cc3",
       "version_major": 2,
       "version_minor": 0
      },
      "text/plain": [
       "VBox(children=(Dropdown(description='Genre: ', options=('(no genres listed)', 'Action', 'Adventure', 'Animatio…"
      ]
     },
     "metadata": {},
     "output_type": "display_data"
    },
    {
     "data": {
      "application/vnd.jupyter.widget-view+json": {
       "model_id": "3c7922ba68e24b19ba48e7e7c6f9a5e7",
       "version_major": 2,
       "version_minor": 0
      },
      "text/plain": [
       "Button(description='Get Recommendation', style=ButtonStyle())"
      ]
     },
     "metadata": {},
     "output_type": "display_data"
    },
    {
     "name": "stdout",
     "output_type": "stream",
     "text": [
      "+-------+----------------------------------------+----------------------+-------------+\n",
      "| Sr.No |              Movie Title               | Average Movie Rating | Num Reviews |\n",
      "+-------+----------------------------------------+----------------------+-------------+\n",
      "|   1   |    Shawshank Redemption, The (1994)    |         4.5          |     308     |\n",
      "|   2   |         Godfather, The (1972)          |         4.4          |     210     |\n",
      "|   3   |     Godfather: Part II, The (1974)     |         4.3          |     140     |\n",
      "|   4   |           Goodfellas (1990)            |         4.3          |     135     |\n",
      "|   5   | One Flew Over the Cuckoo's Nest (1975) |         4.3          |     143     |\n",
      "|   6   |              Fargo (1996)              |         4.3          |     201     |\n",
      "|   7   |        Schindler's List (1993)         |         4.3          |     248     |\n",
      "+-------+----------------------------------------+----------------------+-------------+\n"
     ]
    }
   ],
   "source": [
    "recommdation()"
   ]
  },
  {
   "cell_type": "code",
   "execution_count": 30,
   "id": "723c85e7",
   "metadata": {},
   "outputs": [
    {
     "name": "stdout",
     "output_type": "stream",
     "text": [
      "*Movie Recommendation by Popularity\n"
     ]
    },
    {
     "data": {
      "application/vnd.jupyter.widget-view+json": {
       "model_id": "9f10891ef89e473d840905ff7b034326",
       "version_major": 2,
       "version_minor": 0
      },
      "text/plain": [
       "VBox(children=(Dropdown(description='Genre: ', options=('(no genres listed)', 'Action', 'Adventure', 'Animatio…"
      ]
     },
     "metadata": {},
     "output_type": "display_data"
    },
    {
     "data": {
      "application/vnd.jupyter.widget-view+json": {
       "model_id": "5adfff6df0aa4d2bab25fdaa75844507",
       "version_major": 2,
       "version_minor": 0
      },
      "text/plain": [
       "Button(description='Get Recommendation', style=ButtonStyle())"
      ]
     },
     "metadata": {},
     "output_type": "display_data"
    },
    {
     "name": "stdout",
     "output_type": "stream",
     "text": [
      "+-------+----------------------------------+----------------------+-------------+\n",
      "| Sr.No |           Movie Title            | Average Movie Rating | Num Reviews |\n",
      "+-------+----------------------------------+----------------------+-------------+\n",
      "|   1   | Silence of the Lambs, The (1991) |         4.2          |     290     |\n",
      "+-------+----------------------------------+----------------------+-------------+\n"
     ]
    }
   ],
   "source": [
    "recommdation()"
   ]
  },
  {
   "cell_type": "code",
   "execution_count": 31,
   "id": "385aa3c5",
   "metadata": {},
   "outputs": [
    {
     "name": "stdout",
     "output_type": "stream",
     "text": [
      "*Movie Recommendation by Popularity\n"
     ]
    },
    {
     "data": {
      "application/vnd.jupyter.widget-view+json": {
       "model_id": "0fa1511973ae4e98902a47c91ca415cc",
       "version_major": 2,
       "version_minor": 0
      },
      "text/plain": [
       "VBox(children=(Dropdown(description='Genre: ', options=('(no genres listed)', 'Action', 'Adventure', 'Animatio…"
      ]
     },
     "metadata": {},
     "output_type": "display_data"
    },
    {
     "data": {
      "application/vnd.jupyter.widget-view+json": {
       "model_id": "7b88710f8ee24674892472e4bfde16c9",
       "version_major": 2,
       "version_minor": 0
      },
      "text/plain": [
       "Button(description='Get Recommendation', style=ButtonStyle())"
      ]
     },
     "metadata": {},
     "output_type": "display_data"
    },
    {
     "name": "stdout",
     "output_type": "stream",
     "text": [
      "+-------+--------------------------------------------------------------------------------+----------------------+-------------+\n",
      "| Sr.No |                                  Movie Title                                   | Average Movie Rating | Num Reviews |\n",
      "+-------+--------------------------------------------------------------------------------+----------------------+-------------+\n",
      "|   1   |                     Monty Python and the Holy Grail (1975)                     |         4.3          |     154     |\n",
      "|   2   |                   Star Wars: Episode IV - A New Hope (1977)                    |         4.2          |     273     |\n",
      "|   3   | Raiders of the Lost Ark (Indiana Jones and the Raiders of the Lost Ark) (1981) |         4.2          |     224     |\n",
      "+-------+--------------------------------------------------------------------------------+----------------------+-------------+\n"
     ]
    }
   ],
   "source": [
    "recommdation()"
   ]
  },
  {
   "cell_type": "markdown",
   "id": "dac31e44",
   "metadata": {},
   "source": [
    "<font color='blue' size=5><b>Content-based recommender system</b></font>"
   ]
  },
  {
   "cell_type": "markdown",
   "id": "cb40aaa3",
   "metadata": {},
   "source": [
    "### Objective\n",
    "2. Create a content-based recommender system that recommends top N movies based on\n",
    "    similar movie(m) genres."
   ]
  },
  {
   "cell_type": "code",
   "execution_count": 32,
   "id": "6a2c0ac7",
   "metadata": {},
   "outputs": [
    {
     "data": {
      "text/html": [
       "<div>\n",
       "<style scoped>\n",
       "    .dataframe tbody tr th:only-of-type {\n",
       "        vertical-align: middle;\n",
       "    }\n",
       "\n",
       "    .dataframe tbody tr th {\n",
       "        vertical-align: top;\n",
       "    }\n",
       "\n",
       "    .dataframe thead th {\n",
       "        text-align: right;\n",
       "    }\n",
       "</style>\n",
       "<table border=\"1\" class=\"dataframe\">\n",
       "  <thead>\n",
       "    <tr style=\"text-align: right;\">\n",
       "      <th>genres</th>\n",
       "      <th>(no genres listed)</th>\n",
       "      <th>Action</th>\n",
       "      <th>Adventure</th>\n",
       "      <th>Animation</th>\n",
       "      <th>Children</th>\n",
       "      <th>Comedy</th>\n",
       "      <th>Crime</th>\n",
       "      <th>Documentary</th>\n",
       "      <th>Drama</th>\n",
       "      <th>Fantasy</th>\n",
       "      <th>Film-Noir</th>\n",
       "      <th>Horror</th>\n",
       "      <th>IMAX</th>\n",
       "      <th>Musical</th>\n",
       "      <th>Mystery</th>\n",
       "      <th>Romance</th>\n",
       "      <th>Sci-Fi</th>\n",
       "      <th>Thriller</th>\n",
       "      <th>War</th>\n",
       "      <th>Western</th>\n",
       "    </tr>\n",
       "    <tr>\n",
       "      <th>movieId</th>\n",
       "      <th></th>\n",
       "      <th></th>\n",
       "      <th></th>\n",
       "      <th></th>\n",
       "      <th></th>\n",
       "      <th></th>\n",
       "      <th></th>\n",
       "      <th></th>\n",
       "      <th></th>\n",
       "      <th></th>\n",
       "      <th></th>\n",
       "      <th></th>\n",
       "      <th></th>\n",
       "      <th></th>\n",
       "      <th></th>\n",
       "      <th></th>\n",
       "      <th></th>\n",
       "      <th></th>\n",
       "      <th></th>\n",
       "      <th></th>\n",
       "    </tr>\n",
       "  </thead>\n",
       "  <tbody>\n",
       "    <tr>\n",
       "      <th>1</th>\n",
       "      <td>0</td>\n",
       "      <td>0</td>\n",
       "      <td>1</td>\n",
       "      <td>1</td>\n",
       "      <td>1</td>\n",
       "      <td>1</td>\n",
       "      <td>0</td>\n",
       "      <td>0</td>\n",
       "      <td>0</td>\n",
       "      <td>1</td>\n",
       "      <td>0</td>\n",
       "      <td>0</td>\n",
       "      <td>0</td>\n",
       "      <td>0</td>\n",
       "      <td>0</td>\n",
       "      <td>0</td>\n",
       "      <td>0</td>\n",
       "      <td>0</td>\n",
       "      <td>0</td>\n",
       "      <td>0</td>\n",
       "    </tr>\n",
       "    <tr>\n",
       "      <th>2</th>\n",
       "      <td>0</td>\n",
       "      <td>0</td>\n",
       "      <td>1</td>\n",
       "      <td>0</td>\n",
       "      <td>1</td>\n",
       "      <td>0</td>\n",
       "      <td>0</td>\n",
       "      <td>0</td>\n",
       "      <td>0</td>\n",
       "      <td>1</td>\n",
       "      <td>0</td>\n",
       "      <td>0</td>\n",
       "      <td>0</td>\n",
       "      <td>0</td>\n",
       "      <td>0</td>\n",
       "      <td>0</td>\n",
       "      <td>0</td>\n",
       "      <td>0</td>\n",
       "      <td>0</td>\n",
       "      <td>0</td>\n",
       "    </tr>\n",
       "    <tr>\n",
       "      <th>3</th>\n",
       "      <td>0</td>\n",
       "      <td>0</td>\n",
       "      <td>0</td>\n",
       "      <td>0</td>\n",
       "      <td>0</td>\n",
       "      <td>1</td>\n",
       "      <td>0</td>\n",
       "      <td>0</td>\n",
       "      <td>0</td>\n",
       "      <td>0</td>\n",
       "      <td>0</td>\n",
       "      <td>0</td>\n",
       "      <td>0</td>\n",
       "      <td>0</td>\n",
       "      <td>0</td>\n",
       "      <td>1</td>\n",
       "      <td>0</td>\n",
       "      <td>0</td>\n",
       "      <td>0</td>\n",
       "      <td>0</td>\n",
       "    </tr>\n",
       "    <tr>\n",
       "      <th>4</th>\n",
       "      <td>0</td>\n",
       "      <td>0</td>\n",
       "      <td>0</td>\n",
       "      <td>0</td>\n",
       "      <td>0</td>\n",
       "      <td>1</td>\n",
       "      <td>0</td>\n",
       "      <td>0</td>\n",
       "      <td>1</td>\n",
       "      <td>0</td>\n",
       "      <td>0</td>\n",
       "      <td>0</td>\n",
       "      <td>0</td>\n",
       "      <td>0</td>\n",
       "      <td>0</td>\n",
       "      <td>1</td>\n",
       "      <td>0</td>\n",
       "      <td>0</td>\n",
       "      <td>0</td>\n",
       "      <td>0</td>\n",
       "    </tr>\n",
       "    <tr>\n",
       "      <th>5</th>\n",
       "      <td>0</td>\n",
       "      <td>0</td>\n",
       "      <td>0</td>\n",
       "      <td>0</td>\n",
       "      <td>0</td>\n",
       "      <td>1</td>\n",
       "      <td>0</td>\n",
       "      <td>0</td>\n",
       "      <td>0</td>\n",
       "      <td>0</td>\n",
       "      <td>0</td>\n",
       "      <td>0</td>\n",
       "      <td>0</td>\n",
       "      <td>0</td>\n",
       "      <td>0</td>\n",
       "      <td>0</td>\n",
       "      <td>0</td>\n",
       "      <td>0</td>\n",
       "      <td>0</td>\n",
       "      <td>0</td>\n",
       "    </tr>\n",
       "  </tbody>\n",
       "</table>\n",
       "</div>"
      ],
      "text/plain": [
       "genres   (no genres listed)  Action  Adventure  Animation  Children  Comedy  \\\n",
       "movieId                                                                       \n",
       "1                         0       0          1          1         1       1   \n",
       "2                         0       0          1          0         1       0   \n",
       "3                         0       0          0          0         0       1   \n",
       "4                         0       0          0          0         0       1   \n",
       "5                         0       0          0          0         0       1   \n",
       "\n",
       "genres   Crime  Documentary  Drama  Fantasy  Film-Noir  Horror  IMAX  Musical  \\\n",
       "movieId                                                                         \n",
       "1            0            0      0        1          0       0     0        0   \n",
       "2            0            0      0        1          0       0     0        0   \n",
       "3            0            0      0        0          0       0     0        0   \n",
       "4            0            0      1        0          0       0     0        0   \n",
       "5            0            0      0        0          0       0     0        0   \n",
       "\n",
       "genres   Mystery  Romance  Sci-Fi  Thriller  War  Western  \n",
       "movieId                                                    \n",
       "1              0        0       0         0    0        0  \n",
       "2              0        0       0         0    0        0  \n",
       "3              0        1       0         0    0        0  \n",
       "4              0        1       0         0    0        0  \n",
       "5              0        0       0         0    0        0  "
      ]
     },
     "execution_count": 32,
     "metadata": {},
     "output_type": "execute_result"
    }
   ],
   "source": [
    "# Preprocess\n",
    "movie_genre_matrix = movies.copy()\n",
    "movie_genre_matrix[\"genres\"] = movie_genre_matrix[\"genres\"].str.split('|')   # Converting each genre string into a list of genres.\n",
    "movie_genre_matrix = movie_genre_matrix.explode(\"genres\")\n",
    "movie_genre_matrix[\"value\"] = 1\n",
    "movie_genres_matrix = movie_genre_matrix.pivot_table(index='movieId', columns='genres', values='value', fill_value=0)\n",
    "movie_genres_matrix.head()\n"
   ]
  },
  {
   "cell_type": "code",
   "execution_count": 33,
   "id": "357de938",
   "metadata": {},
   "outputs": [
    {
     "name": "stdout",
     "output_type": "stream",
     "text": [
      "                                                  title\n",
      "7382                             Shrek the Third (2007)\n",
      "9215  Asterix and the Vikings (Astérix et les Viking...\n",
      "1815                                        Antz (1998)\n",
      "3166                   Emperor's New Groove, The (2000)\n",
      "6997                                   Wild, The (2006)\n",
      "2496                                 Toy Story 2 (1999)\n",
      "9732                                       Turbo (2013)\n",
      "3811                              Monsters, Inc. (2001)\n",
      "6617  DuckTales: The Movie - Treasure of the Lost La...\n",
      "2967     Adventures of Rocky and Bullwinkle, The (2000)\n"
     ]
    }
   ],
   "source": [
    "def content_recommaded(movie_name, top_n=10):\n",
    "    # finds the movieId of the first movie\n",
    "    movie_id = movies[movies['title'].str.contains(movie_name)].iloc[0]['movieId']\n",
    "    # retrieves the vector representation (features/genres) of the movie corresponding to movie_id and reshapes it into a 2D array suitable for further processing\n",
    "    movie_vector = movie_genres_matrix.loc[movie_id].values.reshape(1, -1)\n",
    "    cosine_sim = cosine_similarity(movie_genres_matrix, movie_vector).flatten()\n",
    "    # finds the indices of the top top_n most similar movies to the target movie, sorted by similarity in descending order.\n",
    "    similar_movies_indices = cosine_sim.argsort()[-top_n-1:-1][::-1]\n",
    "    similar_movies = movies.iloc[similar_movies_indices]\n",
    "    return similar_movies[['title']]\n",
    "\n",
    "#recommended_movies = content_recommaded(\"Toy Story\", top_n=10)\n",
    "#print(recommended_movies)"
   ]
  },
  {
   "cell_type": "code",
   "execution_count": 34,
   "id": "37524ea2",
   "metadata": {},
   "outputs": [],
   "source": [
    "def Top_content_recommdation():\n",
    "    print(\"*Movie Recommendation (Using Content)\")\n",
    "    movie_title_wid = widgets.Dropdown(options = sorted(movies[\"title\"].unique()),description=\"Movie title get : \")\n",
    "    movie_name_wid = widgets.Text(description=\"Enter Movie title : \")\n",
    "    top_n_wid = widgets.IntText(description=\"Num Recommdation : \")\n",
    "    \n",
    "    inputs = widgets.VBox([movie_title_wid,movie_name_wid,top_n_wid])\n",
    "    display(inputs)\n",
    "    \n",
    "    movie_title_wid.style.description_width = 'initial'\n",
    "    movie_name_wid.style.description_width = 'initial'\n",
    "    top_n_wid.style.description_width = 'initial'\n",
    "    \n",
    "    def on_submit(change):\n",
    "        movie_name = movie_name_wid.value\n",
    "        top_n = top_n_wid.value\n",
    "        \n",
    "        # Generate output title\n",
    "        print(f\"Top {top_n} Movie Recommendations for {movie_name}:\")\n",
    "    \n",
    "        recommdation = content_recommaded(movie_name, top_n)\n",
    "        recommdation.reset_index(drop=True, inplace=True)\n",
    "        Table = recommdation[[\"title\"]].values.tolist()\n",
    "        for i,row in enumerate(Table):\n",
    "            row.insert(0,i+1)\n",
    "        # Define Headers\n",
    "        headers = [\"Sr.No\",\"Movie Title\"]\n",
    "        print(tabulate(Table, headers=headers, tablefmt='pretty'))\n",
    "    button =  widgets.Button(description = \"Get Recommendation\")\n",
    "    button.on_click(on_submit)\n",
    "    display(button)"
   ]
  },
  {
   "cell_type": "code",
   "execution_count": 35,
   "id": "86587b59",
   "metadata": {},
   "outputs": [
    {
     "name": "stdout",
     "output_type": "stream",
     "text": [
      "*Movie Recommendation (Using Content)\n"
     ]
    },
    {
     "data": {
      "application/vnd.jupyter.widget-view+json": {
       "model_id": "a15921214a194dbf9a5f4305195181c3",
       "version_major": 2,
       "version_minor": 0
      },
      "text/plain": [
       "VBox(children=(Dropdown(description='Movie title get : ', options=(\"'71 (2014)\", \"'Hellboy': The Seeds of Crea…"
      ]
     },
     "metadata": {},
     "output_type": "display_data"
    },
    {
     "data": {
      "application/vnd.jupyter.widget-view+json": {
       "model_id": "ca0e6e6181f046d5ac2d67e5ab8dc3ee",
       "version_major": 2,
       "version_minor": 0
      },
      "text/plain": [
       "Button(description='Get Recommendation', style=ButtonStyle())"
      ]
     },
     "metadata": {},
     "output_type": "display_data"
    },
    {
     "name": "stdout",
     "output_type": "stream",
     "text": [
      "Top 5 Movie Recommendations for 3 Idiots:\n",
      "+-------+------------------------+\n",
      "| Sr.No |      Movie Title       |\n",
      "+-------+------------------------+\n",
      "|   1   |    Spanglish (2004)    |\n",
      "|   2   |  My Sassy Girl (2008)  |\n",
      "|   3   | Ugly Truth, The (2009) |\n",
      "|   4   |  Julie & Julia (2009)  |\n",
      "|   5   | Hobson's Choice (1954) |\n",
      "+-------+------------------------+\n"
     ]
    }
   ],
   "source": [
    "Top_content_recommdation()"
   ]
  },
  {
   "cell_type": "code",
   "execution_count": 36,
   "id": "27081557",
   "metadata": {},
   "outputs": [
    {
     "name": "stdout",
     "output_type": "stream",
     "text": [
      "*Movie Recommendation (Using Content)\n"
     ]
    },
    {
     "data": {
      "application/vnd.jupyter.widget-view+json": {
       "model_id": "8b96e658258c442d9e1a02d506dc4952",
       "version_major": 2,
       "version_minor": 0
      },
      "text/plain": [
       "VBox(children=(Dropdown(description='Movie title get : ', options=(\"'71 (2014)\", \"'Hellboy': The Seeds of Crea…"
      ]
     },
     "metadata": {},
     "output_type": "display_data"
    },
    {
     "data": {
      "application/vnd.jupyter.widget-view+json": {
       "model_id": "8aca55821c8b4ebbaea7c44f307e8fb8",
       "version_major": 2,
       "version_minor": 0
      },
      "text/plain": [
       "Button(description='Get Recommendation', style=ButtonStyle())"
      ]
     },
     "metadata": {},
     "output_type": "display_data"
    },
    {
     "name": "stdout",
     "output_type": "stream",
     "text": [
      "Top 2 Movie Recommendations for Rising Sun:\n",
      "+-------+--------------------------+\n",
      "| Sr.No |       Movie Title        |\n",
      "+-------+--------------------------+\n",
      "|   1   | Gleaming the Cube (1989) |\n",
      "|   2   |      Oldboy (2013)       |\n",
      "+-------+--------------------------+\n"
     ]
    }
   ],
   "source": [
    "Top_content_recommdation()"
   ]
  },
  {
   "cell_type": "markdown",
   "id": "0424b611",
   "metadata": {},
   "source": [
    "<font color='blue' size=5><b>Collaborative based recommender system</b></font>"
   ]
  },
  {
   "cell_type": "markdown",
   "id": "b441e098",
   "metadata": {},
   "source": [
    "### Objective\n",
    "3. Create a collaborative based recommender system which recommends top N movies\n",
    "    based on “K” similar users for a target user “u”"
   ]
  },
  {
   "cell_type": "code",
   "execution_count": 37,
   "id": "f868be4f",
   "metadata": {},
   "outputs": [
    {
     "data": {
      "text/html": [
       "<div>\n",
       "<style scoped>\n",
       "    .dataframe tbody tr th:only-of-type {\n",
       "        vertical-align: middle;\n",
       "    }\n",
       "\n",
       "    .dataframe tbody tr th {\n",
       "        vertical-align: top;\n",
       "    }\n",
       "\n",
       "    .dataframe thead th {\n",
       "        text-align: right;\n",
       "    }\n",
       "</style>\n",
       "<table border=\"1\" class=\"dataframe\">\n",
       "  <thead>\n",
       "    <tr style=\"text-align: right;\">\n",
       "      <th>movieId</th>\n",
       "      <th>1</th>\n",
       "      <th>2</th>\n",
       "      <th>3</th>\n",
       "      <th>4</th>\n",
       "      <th>5</th>\n",
       "      <th>6</th>\n",
       "      <th>7</th>\n",
       "      <th>8</th>\n",
       "      <th>9</th>\n",
       "      <th>10</th>\n",
       "      <th>...</th>\n",
       "      <th>144482</th>\n",
       "      <th>144656</th>\n",
       "      <th>144976</th>\n",
       "      <th>146344</th>\n",
       "      <th>146656</th>\n",
       "      <th>146684</th>\n",
       "      <th>146878</th>\n",
       "      <th>148238</th>\n",
       "      <th>148626</th>\n",
       "      <th>149532</th>\n",
       "    </tr>\n",
       "    <tr>\n",
       "      <th>userId</th>\n",
       "      <th></th>\n",
       "      <th></th>\n",
       "      <th></th>\n",
       "      <th></th>\n",
       "      <th></th>\n",
       "      <th></th>\n",
       "      <th></th>\n",
       "      <th></th>\n",
       "      <th></th>\n",
       "      <th></th>\n",
       "      <th></th>\n",
       "      <th></th>\n",
       "      <th></th>\n",
       "      <th></th>\n",
       "      <th></th>\n",
       "      <th></th>\n",
       "      <th></th>\n",
       "      <th></th>\n",
       "      <th></th>\n",
       "      <th></th>\n",
       "      <th></th>\n",
       "    </tr>\n",
       "  </thead>\n",
       "  <tbody>\n",
       "    <tr>\n",
       "      <th>1</th>\n",
       "      <td>0.0</td>\n",
       "      <td>0.0</td>\n",
       "      <td>0.0</td>\n",
       "      <td>0.0</td>\n",
       "      <td>0.0</td>\n",
       "      <td>0.0</td>\n",
       "      <td>0.0</td>\n",
       "      <td>0.0</td>\n",
       "      <td>0.0</td>\n",
       "      <td>0.0</td>\n",
       "      <td>...</td>\n",
       "      <td>0.0</td>\n",
       "      <td>0.0</td>\n",
       "      <td>0.0</td>\n",
       "      <td>0.0</td>\n",
       "      <td>0.0</td>\n",
       "      <td>0.0</td>\n",
       "      <td>0.0</td>\n",
       "      <td>0.0</td>\n",
       "      <td>0.0</td>\n",
       "      <td>0.0</td>\n",
       "    </tr>\n",
       "    <tr>\n",
       "      <th>2</th>\n",
       "      <td>5.0</td>\n",
       "      <td>0.0</td>\n",
       "      <td>2.0</td>\n",
       "      <td>0.0</td>\n",
       "      <td>3.0</td>\n",
       "      <td>0.0</td>\n",
       "      <td>0.0</td>\n",
       "      <td>0.0</td>\n",
       "      <td>0.0</td>\n",
       "      <td>0.0</td>\n",
       "      <td>...</td>\n",
       "      <td>0.0</td>\n",
       "      <td>0.0</td>\n",
       "      <td>0.0</td>\n",
       "      <td>0.0</td>\n",
       "      <td>0.0</td>\n",
       "      <td>0.0</td>\n",
       "      <td>0.0</td>\n",
       "      <td>0.0</td>\n",
       "      <td>0.0</td>\n",
       "      <td>0.0</td>\n",
       "    </tr>\n",
       "    <tr>\n",
       "      <th>3</th>\n",
       "      <td>0.0</td>\n",
       "      <td>0.0</td>\n",
       "      <td>0.0</td>\n",
       "      <td>0.0</td>\n",
       "      <td>3.0</td>\n",
       "      <td>0.0</td>\n",
       "      <td>3.0</td>\n",
       "      <td>0.0</td>\n",
       "      <td>0.0</td>\n",
       "      <td>0.0</td>\n",
       "      <td>...</td>\n",
       "      <td>0.0</td>\n",
       "      <td>0.0</td>\n",
       "      <td>0.0</td>\n",
       "      <td>0.0</td>\n",
       "      <td>0.0</td>\n",
       "      <td>0.0</td>\n",
       "      <td>0.0</td>\n",
       "      <td>0.0</td>\n",
       "      <td>0.0</td>\n",
       "      <td>0.0</td>\n",
       "    </tr>\n",
       "    <tr>\n",
       "      <th>4</th>\n",
       "      <td>0.0</td>\n",
       "      <td>0.0</td>\n",
       "      <td>0.0</td>\n",
       "      <td>0.0</td>\n",
       "      <td>0.0</td>\n",
       "      <td>0.0</td>\n",
       "      <td>0.0</td>\n",
       "      <td>0.0</td>\n",
       "      <td>0.0</td>\n",
       "      <td>0.0</td>\n",
       "      <td>...</td>\n",
       "      <td>0.0</td>\n",
       "      <td>0.0</td>\n",
       "      <td>0.0</td>\n",
       "      <td>0.0</td>\n",
       "      <td>0.0</td>\n",
       "      <td>0.0</td>\n",
       "      <td>0.0</td>\n",
       "      <td>0.0</td>\n",
       "      <td>0.0</td>\n",
       "      <td>0.0</td>\n",
       "    </tr>\n",
       "    <tr>\n",
       "      <th>5</th>\n",
       "      <td>4.0</td>\n",
       "      <td>0.0</td>\n",
       "      <td>0.0</td>\n",
       "      <td>0.0</td>\n",
       "      <td>0.0</td>\n",
       "      <td>0.0</td>\n",
       "      <td>0.0</td>\n",
       "      <td>0.0</td>\n",
       "      <td>0.0</td>\n",
       "      <td>0.0</td>\n",
       "      <td>...</td>\n",
       "      <td>0.0</td>\n",
       "      <td>0.0</td>\n",
       "      <td>0.0</td>\n",
       "      <td>0.0</td>\n",
       "      <td>0.0</td>\n",
       "      <td>0.0</td>\n",
       "      <td>0.0</td>\n",
       "      <td>0.0</td>\n",
       "      <td>0.0</td>\n",
       "      <td>0.0</td>\n",
       "    </tr>\n",
       "  </tbody>\n",
       "</table>\n",
       "<p>5 rows × 10325 columns</p>\n",
       "</div>"
      ],
      "text/plain": [
       "movieId  1       2       3       4       5       6       7       8       \\\n",
       "userId                                                                    \n",
       "1           0.0     0.0     0.0     0.0     0.0     0.0     0.0     0.0   \n",
       "2           5.0     0.0     2.0     0.0     3.0     0.0     0.0     0.0   \n",
       "3           0.0     0.0     0.0     0.0     3.0     0.0     3.0     0.0   \n",
       "4           0.0     0.0     0.0     0.0     0.0     0.0     0.0     0.0   \n",
       "5           4.0     0.0     0.0     0.0     0.0     0.0     0.0     0.0   \n",
       "\n",
       "movieId  9       10      ...  144482  144656  144976  146344  146656  146684  \\\n",
       "userId                   ...                                                   \n",
       "1           0.0     0.0  ...     0.0     0.0     0.0     0.0     0.0     0.0   \n",
       "2           0.0     0.0  ...     0.0     0.0     0.0     0.0     0.0     0.0   \n",
       "3           0.0     0.0  ...     0.0     0.0     0.0     0.0     0.0     0.0   \n",
       "4           0.0     0.0  ...     0.0     0.0     0.0     0.0     0.0     0.0   \n",
       "5           0.0     0.0  ...     0.0     0.0     0.0     0.0     0.0     0.0   \n",
       "\n",
       "movieId  146878  148238  148626  149532  \n",
       "userId                                   \n",
       "1           0.0     0.0     0.0     0.0  \n",
       "2           0.0     0.0     0.0     0.0  \n",
       "3           0.0     0.0     0.0     0.0  \n",
       "4           0.0     0.0     0.0     0.0  \n",
       "5           0.0     0.0     0.0     0.0  \n",
       "\n",
       "[5 rows x 10325 columns]"
      ]
     },
     "execution_count": 37,
     "metadata": {},
     "output_type": "execute_result"
    }
   ],
   "source": [
    "user_movie_matrix = ratings.pivot(index=\"userId\", columns=\"movieId\", values=\"rating\").fillna(0)\n",
    "user_movie_matrix.head()"
   ]
  },
  {
   "cell_type": "code",
   "execution_count": 38,
   "id": "75b936d4",
   "metadata": {},
   "outputs": [
    {
     "data": {
      "text/html": [
       "<div>\n",
       "<style scoped>\n",
       "    .dataframe tbody tr th:only-of-type {\n",
       "        vertical-align: middle;\n",
       "    }\n",
       "\n",
       "    .dataframe tbody tr th {\n",
       "        vertical-align: top;\n",
       "    }\n",
       "\n",
       "    .dataframe thead th {\n",
       "        text-align: right;\n",
       "    }\n",
       "</style>\n",
       "<table border=\"1\" class=\"dataframe\">\n",
       "  <thead>\n",
       "    <tr style=\"text-align: right;\">\n",
       "      <th>userId</th>\n",
       "      <th>1</th>\n",
       "      <th>2</th>\n",
       "      <th>3</th>\n",
       "      <th>4</th>\n",
       "      <th>5</th>\n",
       "      <th>6</th>\n",
       "      <th>7</th>\n",
       "      <th>8</th>\n",
       "      <th>9</th>\n",
       "      <th>10</th>\n",
       "      <th>...</th>\n",
       "      <th>659</th>\n",
       "      <th>660</th>\n",
       "      <th>661</th>\n",
       "      <th>662</th>\n",
       "      <th>663</th>\n",
       "      <th>664</th>\n",
       "      <th>665</th>\n",
       "      <th>666</th>\n",
       "      <th>667</th>\n",
       "      <th>668</th>\n",
       "    </tr>\n",
       "    <tr>\n",
       "      <th>userId</th>\n",
       "      <th></th>\n",
       "      <th></th>\n",
       "      <th></th>\n",
       "      <th></th>\n",
       "      <th></th>\n",
       "      <th></th>\n",
       "      <th></th>\n",
       "      <th></th>\n",
       "      <th></th>\n",
       "      <th></th>\n",
       "      <th></th>\n",
       "      <th></th>\n",
       "      <th></th>\n",
       "      <th></th>\n",
       "      <th></th>\n",
       "      <th></th>\n",
       "      <th></th>\n",
       "      <th></th>\n",
       "      <th></th>\n",
       "      <th></th>\n",
       "      <th></th>\n",
       "    </tr>\n",
       "  </thead>\n",
       "  <tbody>\n",
       "    <tr>\n",
       "      <th>1</th>\n",
       "      <td>1.000000</td>\n",
       "      <td>0.101113</td>\n",
       "      <td>0.210044</td>\n",
       "      <td>0.128766</td>\n",
       "      <td>0.057896</td>\n",
       "      <td>0.077130</td>\n",
       "      <td>0.358090</td>\n",
       "      <td>0.097434</td>\n",
       "      <td>0.239189</td>\n",
       "      <td>0.026663</td>\n",
       "      <td>...</td>\n",
       "      <td>0.291162</td>\n",
       "      <td>0.144741</td>\n",
       "      <td>0.106583</td>\n",
       "      <td>0.091049</td>\n",
       "      <td>0.236805</td>\n",
       "      <td>0.154519</td>\n",
       "      <td>0.245071</td>\n",
       "      <td>0.238660</td>\n",
       "      <td>0.278217</td>\n",
       "      <td>0.153479</td>\n",
       "    </tr>\n",
       "    <tr>\n",
       "      <th>2</th>\n",
       "      <td>0.101113</td>\n",
       "      <td>1.000000</td>\n",
       "      <td>0.115559</td>\n",
       "      <td>0.034610</td>\n",
       "      <td>0.032705</td>\n",
       "      <td>0.028305</td>\n",
       "      <td>0.062914</td>\n",
       "      <td>0.471918</td>\n",
       "      <td>0.194232</td>\n",
       "      <td>0.000000</td>\n",
       "      <td>...</td>\n",
       "      <td>0.068325</td>\n",
       "      <td>0.000000</td>\n",
       "      <td>0.477330</td>\n",
       "      <td>0.146887</td>\n",
       "      <td>0.163553</td>\n",
       "      <td>0.061737</td>\n",
       "      <td>0.050948</td>\n",
       "      <td>0.051423</td>\n",
       "      <td>0.035907</td>\n",
       "      <td>0.064816</td>\n",
       "    </tr>\n",
       "    <tr>\n",
       "      <th>3</th>\n",
       "      <td>0.210044</td>\n",
       "      <td>0.115559</td>\n",
       "      <td>1.000000</td>\n",
       "      <td>0.058208</td>\n",
       "      <td>0.044426</td>\n",
       "      <td>0.012816</td>\n",
       "      <td>0.084522</td>\n",
       "      <td>0.066620</td>\n",
       "      <td>0.459703</td>\n",
       "      <td>0.068454</td>\n",
       "      <td>...</td>\n",
       "      <td>0.152078</td>\n",
       "      <td>0.301021</td>\n",
       "      <td>0.081626</td>\n",
       "      <td>0.098949</td>\n",
       "      <td>0.310234</td>\n",
       "      <td>0.079452</td>\n",
       "      <td>0.092821</td>\n",
       "      <td>0.080940</td>\n",
       "      <td>0.158943</td>\n",
       "      <td>0.109648</td>\n",
       "    </tr>\n",
       "    <tr>\n",
       "      <th>4</th>\n",
       "      <td>0.128766</td>\n",
       "      <td>0.034610</td>\n",
       "      <td>0.058208</td>\n",
       "      <td>1.000000</td>\n",
       "      <td>0.019298</td>\n",
       "      <td>0.005781</td>\n",
       "      <td>0.059089</td>\n",
       "      <td>0.024420</td>\n",
       "      <td>0.050572</td>\n",
       "      <td>0.000000</td>\n",
       "      <td>...</td>\n",
       "      <td>0.055860</td>\n",
       "      <td>0.024329</td>\n",
       "      <td>0.040467</td>\n",
       "      <td>0.108881</td>\n",
       "      <td>0.076241</td>\n",
       "      <td>0.014011</td>\n",
       "      <td>0.042643</td>\n",
       "      <td>0.174275</td>\n",
       "      <td>0.061677</td>\n",
       "      <td>0.157794</td>\n",
       "    </tr>\n",
       "    <tr>\n",
       "      <th>5</th>\n",
       "      <td>0.057896</td>\n",
       "      <td>0.032705</td>\n",
       "      <td>0.044426</td>\n",
       "      <td>0.019298</td>\n",
       "      <td>1.000000</td>\n",
       "      <td>0.053378</td>\n",
       "      <td>0.080822</td>\n",
       "      <td>0.041536</td>\n",
       "      <td>0.023168</td>\n",
       "      <td>0.011915</td>\n",
       "      <td>...</td>\n",
       "      <td>0.058450</td>\n",
       "      <td>0.007315</td>\n",
       "      <td>0.024708</td>\n",
       "      <td>0.038163</td>\n",
       "      <td>0.053085</td>\n",
       "      <td>0.048993</td>\n",
       "      <td>0.055431</td>\n",
       "      <td>0.026053</td>\n",
       "      <td>0.086667</td>\n",
       "      <td>0.068275</td>\n",
       "    </tr>\n",
       "  </tbody>\n",
       "</table>\n",
       "<p>5 rows × 668 columns</p>\n",
       "</div>"
      ],
      "text/plain": [
       "userId       1         2         3         4         5         6         7    \\\n",
       "userId                                                                         \n",
       "1       1.000000  0.101113  0.210044  0.128766  0.057896  0.077130  0.358090   \n",
       "2       0.101113  1.000000  0.115559  0.034610  0.032705  0.028305  0.062914   \n",
       "3       0.210044  0.115559  1.000000  0.058208  0.044426  0.012816  0.084522   \n",
       "4       0.128766  0.034610  0.058208  1.000000  0.019298  0.005781  0.059089   \n",
       "5       0.057896  0.032705  0.044426  0.019298  1.000000  0.053378  0.080822   \n",
       "\n",
       "userId       8         9         10   ...       659       660       661  \\\n",
       "userId                                ...                                 \n",
       "1       0.097434  0.239189  0.026663  ...  0.291162  0.144741  0.106583   \n",
       "2       0.471918  0.194232  0.000000  ...  0.068325  0.000000  0.477330   \n",
       "3       0.066620  0.459703  0.068454  ...  0.152078  0.301021  0.081626   \n",
       "4       0.024420  0.050572  0.000000  ...  0.055860  0.024329  0.040467   \n",
       "5       0.041536  0.023168  0.011915  ...  0.058450  0.007315  0.024708   \n",
       "\n",
       "userId       662       663       664       665       666       667       668  \n",
       "userId                                                                        \n",
       "1       0.091049  0.236805  0.154519  0.245071  0.238660  0.278217  0.153479  \n",
       "2       0.146887  0.163553  0.061737  0.050948  0.051423  0.035907  0.064816  \n",
       "3       0.098949  0.310234  0.079452  0.092821  0.080940  0.158943  0.109648  \n",
       "4       0.108881  0.076241  0.014011  0.042643  0.174275  0.061677  0.157794  \n",
       "5       0.038163  0.053085  0.048993  0.055431  0.026053  0.086667  0.068275  \n",
       "\n",
       "[5 rows x 668 columns]"
      ]
     },
     "execution_count": 38,
     "metadata": {},
     "output_type": "execute_result"
    }
   ],
   "source": [
    "user_similarity = cosine_similarity(user_movie_matrix)\n",
    "user_similarity_df = pd.DataFrame(user_similarity, index=user_movie_matrix.index, columns=user_movie_matrix.index)\n",
    "user_similarity_df.head()"
   ]
  },
  {
   "cell_type": "code",
   "execution_count": 39,
   "id": "67245881",
   "metadata": {},
   "outputs": [],
   "source": [
    "# Find K similar users for target user\n",
    "def top_similar_user(user_id,k):\n",
    "     # Get similarity scores for the target user\n",
    "    similarity_score = user_similarity_df[user_id]\n",
    "    # Sort users by similarity score and exclude the target user\n",
    "    similar_user = similarity_score.sort_values(ascending=False).index.drop(user_id)\n",
    "    # Return the top K similar users\n",
    "    return similar_user[:k]"
   ]
  },
  {
   "cell_type": "code",
   "execution_count": 40,
   "id": "087e505e",
   "metadata": {},
   "outputs": [],
   "source": [
    "def users_recommended_movies(user_id,k,n):\n",
    "    # Find top K similar users\n",
    "    similar_users = top_similar_user(user_id,k)\n",
    "     # Aggregate ratings of the similar users\n",
    "    similar_user_rating = user_movie_matrix.loc[similar_users]\n",
    "    # Calculate the mean rating for each movie\n",
    "    movie_recommend = similar_user_rating.mean(axis=0)\n",
    "    \n",
    "    # Filter out movies already seen by the target user\n",
    "    seen_movies = user_movie_matrix.loc[user_id].replace(0,pd.NA).dropna().index\n",
    "    movie_recommendation = movie_recommend.drop(seen_movies)\n",
    "    \n",
    "    top_recommend = movie_recommendation.sort_values(ascending=False).head(n)\n",
    "    top_recommendation = top_recommend.reset_index().merge(movies[[\"movieId\",\"title\"]], on=\"movieId\")\n",
    "    return top_recommendation"
   ]
  },
  {
   "cell_type": "code",
   "execution_count": 41,
   "id": "3af5cf3e",
   "metadata": {},
   "outputs": [],
   "source": [
    "def Top_movies_recommdation():\n",
    "    user_id = int(input(\"User Id : \"))\n",
    "    n = int(input(\"Num Recommdation : \"))\n",
    "    k = int(input(\"Threshold for similar users : \"))\n",
    "    recommdation = users_recommended_movies(user_id,k,n)\n",
    "    #recommdation.reset_index(drop=True)\n",
    "    Table = recommdation[[\"title\"]].values.tolist()\n",
    "    for i,row in enumerate(Table):\n",
    "        row.insert(0,i+1)\n",
    "    # Define Headers\n",
    "    headers = [\"Sr.No\",\"Movie Title\"]\n",
    "    return print(tabulate(Table, headers=headers, tablefmt='pretty'))"
   ]
  },
  {
   "cell_type": "code",
   "execution_count": 42,
   "id": "157cdbf4",
   "metadata": {},
   "outputs": [
    {
     "name": "stdout",
     "output_type": "stream",
     "text": [
      "User Id : 1\n",
      "Num Recommdation : 5\n",
      "Threshold for similar users : 100\n",
      "+-------+-------------------------------------------+\n",
      "| Sr.No |                Movie Title                |\n",
      "+-------+-------------------------------------------+\n",
      "|   1   | Indiana Jones and the Last Crusade (1989) |\n",
      "|   2   |             Toy Story (1995)              |\n",
      "|   3   |              Die Hard (1988)              |\n",
      "|   4   |               Aliens (1986)               |\n",
      "|   5   |              Memento (2000)               |\n",
      "+-------+-------------------------------------------+\n"
     ]
    }
   ],
   "source": [
    "Top_movies_recommdation()"
   ]
  },
  {
   "cell_type": "code",
   "execution_count": 57,
   "id": "a20242e8",
   "metadata": {},
   "outputs": [],
   "source": [
    "def Top_movies_recommdation():\n",
    "    print(\"*Movie Recommendation (user collaborative)\")\n",
    "    print(\"\\n\\nNote: Enter user id from 1 to 668\")\n",
    "\n",
    "    user_id_wid = widgets.IntText(description=\"User Id : \")\n",
    "    n_wid = widgets.IntText(description= \"Num Recommdation : \")\n",
    "    k_wid = widgets.IntText(description= \"Threshold for similar users : \")\n",
    "    \n",
    "    inputs = widgets.VBox([user_id_wid,k_wid,n_wid])\n",
    "    display(inputs)\n",
    "    \n",
    "    user_id_wid.style.description_width = 'initial'\n",
    "    n_wid.style.description_width = 'initial'\n",
    "    k_wid.style.description_width = 'initial'\n",
    "    \n",
    "    def on_submit(change):\n",
    "        user_id = user_id_wid.value\n",
    "        n = n_wid.value\n",
    "        k =  k_wid.value\n",
    "\n",
    "        recommdation = users_recommended_movies(user_id,k,n)\n",
    "        #recommdation.reset_index(drop=True)\n",
    "        Table = recommdation[[\"title\"]].values.tolist()\n",
    "        for i,row in enumerate(Table):\n",
    "            row.insert(0,i+1)\n",
    "        # Define Headers\n",
    "        headers = [\"Sr.No\",\"Movie Title\"]\n",
    "        print(tabulate(Table, headers=headers, tablefmt='pretty'))\n",
    "    \n",
    "     # button\n",
    "    button = widgets.Button(description = \"Get Recommendation\")\n",
    "    button.on_click(on_submit)\n",
    "    display(button)"
   ]
  },
  {
   "cell_type": "code",
   "execution_count": 58,
   "id": "e8044b81",
   "metadata": {},
   "outputs": [
    {
     "name": "stdout",
     "output_type": "stream",
     "text": [
      "*Movie Recommendation (user collaborative)\n",
      "\n",
      "\n",
      "Note: Enter user id from 1 to 668\n"
     ]
    },
    {
     "data": {
      "application/vnd.jupyter.widget-view+json": {
       "model_id": "e64cf844815644699c2c53b215145e8a",
       "version_major": 2,
       "version_minor": 0
      },
      "text/plain": [
       "VBox(children=(IntText(value=0, description='User Id : '), IntText(value=0, description='Threshold for similar…"
      ]
     },
     "metadata": {},
     "output_type": "display_data"
    },
    {
     "data": {
      "application/vnd.jupyter.widget-view+json": {
       "model_id": "58bb9f7ffbe4484dbcef8026099c94f4",
       "version_major": 2,
       "version_minor": 0
      },
      "text/plain": [
       "Button(description='Get Recommendation', style=ButtonStyle())"
      ]
     },
     "metadata": {},
     "output_type": "display_data"
    },
    {
     "name": "stdout",
     "output_type": "stream",
     "text": [
      "+-------+-------------------------------------------+\n",
      "| Sr.No |                Movie Title                |\n",
      "+-------+-------------------------------------------+\n",
      "|   1   | Indiana Jones and the Last Crusade (1989) |\n",
      "|   2   |             Toy Story (1995)              |\n",
      "|   3   |              Die Hard (1988)              |\n",
      "|   4   |               Aliens (1986)               |\n",
      "|   5   |              Memento (2000)               |\n",
      "+-------+-------------------------------------------+\n"
     ]
    }
   ],
   "source": [
    "Top_movies_recommdation()"
   ]
  },
  {
   "cell_type": "code",
   "execution_count": 59,
   "id": "5ec76f35",
   "metadata": {},
   "outputs": [
    {
     "name": "stdout",
     "output_type": "stream",
     "text": [
      "*Movie Recommendation (user collaborative)\n",
      "\n",
      "\n",
      "Note: Enter user id from 1 to 668\n"
     ]
    },
    {
     "data": {
      "application/vnd.jupyter.widget-view+json": {
       "model_id": "1be8b73fef324ae9808a951e65f866d2",
       "version_major": 2,
       "version_minor": 0
      },
      "text/plain": [
       "VBox(children=(IntText(value=0, description='User Id : '), IntText(value=0, description='Threshold for similar…"
      ]
     },
     "metadata": {},
     "output_type": "display_data"
    },
    {
     "data": {
      "application/vnd.jupyter.widget-view+json": {
       "model_id": "31e26fe2696e4f9eb8583956d1694c08",
       "version_major": 2,
       "version_minor": 0
      },
      "text/plain": [
       "Button(description='Get Recommendation', style=ButtonStyle())"
      ]
     },
     "metadata": {},
     "output_type": "display_data"
    },
    {
     "name": "stdout",
     "output_type": "stream",
     "text": [
      "+-------+----------------------------------+\n",
      "| Sr.No |           Movie Title            |\n",
      "+-------+----------------------------------+\n",
      "|   1   |       Pulp Fiction (1994)        |\n",
      "|   2   |        Matrix, The (1999)        |\n",
      "|   3   | Shawshank Redemption, The (1994) |\n",
      "+-------+----------------------------------+\n"
     ]
    }
   ],
   "source": [
    "Top_movies_recommdation()"
   ]
  },
  {
   "cell_type": "markdown",
   "id": "49eb2fc7",
   "metadata": {},
   "source": [
    "## Evaluation"
   ]
  },
  {
   "cell_type": "markdown",
   "id": "1c8d552c",
   "metadata": {},
   "source": [
    "<font color='blue' size=3><b><u> popularity-based recommender system at a genre level</u></b></font>"
   ]
  },
  {
   "cell_type": "code",
   "execution_count": 51,
   "id": "661d87d7",
   "metadata": {},
   "outputs": [
    {
     "name": "stdout",
     "output_type": "stream",
     "text": [
      "*Movie Recommendation by Popularity\n"
     ]
    },
    {
     "data": {
      "application/vnd.jupyter.widget-view+json": {
       "model_id": "e4ea4a9c2bab489e8d62d5d1c887c24b",
       "version_major": 2,
       "version_minor": 0
      },
      "text/plain": [
       "VBox(children=(Dropdown(description='Genre: ', options=('(no genres listed)', 'Action', 'Adventure', 'Animatio…"
      ]
     },
     "metadata": {},
     "output_type": "display_data"
    },
    {
     "data": {
      "application/vnd.jupyter.widget-view+json": {
       "model_id": "90894fd1c64b401d8dc4fc0119c98e49",
       "version_major": 2,
       "version_minor": 0
      },
      "text/plain": [
       "Button(description='Get Recommendation', style=ButtonStyle())"
      ]
     },
     "metadata": {},
     "output_type": "display_data"
    },
    {
     "name": "stdout",
     "output_type": "stream",
     "text": [
      "+-------+--------------------------------------------------------------------------------+----------------------+-------------+\n",
      "| Sr.No |                                  Movie Title                                   | Average Movie Rating | Num Reviews |\n",
      "+-------+--------------------------------------------------------------------------------+----------------------+-------------+\n",
      "|   1   |                               Matrix, The (1999)                               |         4.3          |     261     |\n",
      "|   2   |                   Star Wars: Episode IV - A New Hope (1977)                    |         4.2          |     273     |\n",
      "|   3   |             Star Wars: Episode V - The Empire Strikes Back (1980)              |         4.2          |     228     |\n",
      "|   4   | Raiders of the Lost Ark (Indiana Jones and the Raiders of the Lost Ark) (1981) |         4.2          |     224     |\n",
      "|   5   |                               Fight Club (1999)                                |         4.2          |     207     |\n",
      "+-------+--------------------------------------------------------------------------------+----------------------+-------------+\n"
     ]
    }
   ],
   "source": [
    "recommdation()"
   ]
  },
  {
   "cell_type": "markdown",
   "id": "a5c435a3",
   "metadata": {},
   "source": [
    "<font color='blue' size=3><b><u> content-based recommender system</u></b></font>"
   ]
  },
  {
   "cell_type": "code",
   "execution_count": 52,
   "id": "43f764de",
   "metadata": {},
   "outputs": [
    {
     "name": "stdout",
     "output_type": "stream",
     "text": [
      "*Movie Recommendation (Using Content)\n"
     ]
    },
    {
     "data": {
      "application/vnd.jupyter.widget-view+json": {
       "model_id": "8c561e7acff143408897fd476dcb2e5a",
       "version_major": 2,
       "version_minor": 0
      },
      "text/plain": [
       "VBox(children=(Dropdown(description='Movie title get : ', options=(\"'71 (2014)\", \"'Hellboy': The Seeds of Crea…"
      ]
     },
     "metadata": {},
     "output_type": "display_data"
    },
    {
     "data": {
      "application/vnd.jupyter.widget-view+json": {
       "model_id": "f6356f3e06f14608b16e1287cd067250",
       "version_major": 2,
       "version_minor": 0
      },
      "text/plain": [
       "Button(description='Get Recommendation', style=ButtonStyle())"
      ]
     },
     "metadata": {},
     "output_type": "display_data"
    },
    {
     "name": "stdout",
     "output_type": "stream",
     "text": [
      "Top 5 Movie Recommendations for Dogs of War:\n",
      "+-------+-----------------------------------------------------------+\n",
      "| Sr.No |                        Movie Title                        |\n",
      "+-------+-----------------------------------------------------------+\n",
      "|   1   |                 Purple Plain, The (1954)                  |\n",
      "|   2   |                       Birdy (1984)                        |\n",
      "|   3   |         Winter in Wartime (Oorlogswinter) (2008)          |\n",
      "|   4   | Trial of Joan of Arc, The (Procès de Jeanne d'Arc) (1962) |\n",
      "|   5   |                     Gettysburg (1993)                     |\n",
      "+-------+-----------------------------------------------------------+\n"
     ]
    }
   ],
   "source": [
    "Top_content_recommdation()"
   ]
  },
  {
   "cell_type": "markdown",
   "id": "82a1b8ac",
   "metadata": {},
   "source": [
    "<font color='blue' size=3><b><u>  collaborative based recommender system</u></b></font>"
   ]
  },
  {
   "cell_type": "code",
   "execution_count": 60,
   "id": "638c14da",
   "metadata": {},
   "outputs": [
    {
     "name": "stdout",
     "output_type": "stream",
     "text": [
      "*Movie Recommendation (user collaborative)\n",
      "\n",
      "\n",
      "Note: Enter user id from 1 to 668\n"
     ]
    },
    {
     "data": {
      "application/vnd.jupyter.widget-view+json": {
       "model_id": "225e649f0c4c469cb38ad0bb44537b8c",
       "version_major": 2,
       "version_minor": 0
      },
      "text/plain": [
       "VBox(children=(IntText(value=0, description='User Id : '), IntText(value=0, description='Threshold for similar…"
      ]
     },
     "metadata": {},
     "output_type": "display_data"
    },
    {
     "data": {
      "application/vnd.jupyter.widget-view+json": {
       "model_id": "1f2b65ff7633452294e6186ff500a702",
       "version_major": 2,
       "version_minor": 0
      },
      "text/plain": [
       "Button(description='Get Recommendation', style=ButtonStyle())"
      ]
     },
     "metadata": {},
     "output_type": "display_data"
    },
    {
     "name": "stdout",
     "output_type": "stream",
     "text": [
      "+-------+--------------------------------------------------------------------------------+\n",
      "| Sr.No |                                  Movie Title                                   |\n",
      "+-------+--------------------------------------------------------------------------------+\n",
      "|   1   |                   Star Wars: Episode IV - A New Hope (1977)                    |\n",
      "|   2   | Raiders of the Lost Ark (Indiana Jones and the Raiders of the Lost Ark) (1981) |\n",
      "|   3   |                           Usual Suspects, The (1995)                           |\n",
      "|   4   |                             American Beauty (1999)                             |\n",
      "|   5   |                           Back to the Future (1985)                            |\n",
      "+-------+--------------------------------------------------------------------------------+\n"
     ]
    }
   ],
   "source": [
    "Top_movies_recommdation()"
   ]
  },
  {
   "cell_type": "markdown",
   "id": "0b74fc56",
   "metadata": {},
   "source": [
    "## END"
   ]
  }
 ],
 "metadata": {
  "kernelspec": {
   "display_name": "Python 3 (ipykernel)",
   "language": "python",
   "name": "python3"
  },
  "language_info": {
   "codemirror_mode": {
    "name": "ipython",
    "version": 3
   },
   "file_extension": ".py",
   "mimetype": "text/x-python",
   "name": "python",
   "nbconvert_exporter": "python",
   "pygments_lexer": "ipython3",
   "version": "3.11.5"
  }
 },
 "nbformat": 4,
 "nbformat_minor": 5
}
